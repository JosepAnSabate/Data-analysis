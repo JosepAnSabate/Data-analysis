{
 "cells": [
  {
   "cell_type": "code",
   "execution_count": 1,
   "id": "f5dadab6",
   "metadata": {},
   "outputs": [],
   "source": [
    "import geopandas as gpd\n",
    "import pandas as pd\n",
    "from geopandas import datasets, GeoDataFrame, read_file\n",
    "\n",
    "\n",
    "%matplotlib inline"
   ]
  },
  {
   "cell_type": "code",
   "execution_count": 2,
   "id": "55419493",
   "metadata": {},
   "outputs": [
    {
     "name": "stderr",
     "output_type": "stream",
     "text": [
      "C:\\Users\\34639\\anaconda3\\envs\\geo_env\\lib\\site-packages\\geopandas\\geodataframe.py:577: RuntimeWarning: Sequential read of iterator was interrupted. Resetting iterator. This can negatively impact the performance.\n",
      "  for feature in features_lst:\n"
     ]
    }
   ],
   "source": [
    "# reading the geopackage\n",
    "cadastral_ref_gdf = gpd.read_file(\"Ciclica_test_gis.gpkg\", layer='CadastralReferences')"
   ]
  },
  {
   "cell_type": "code",
   "execution_count": 3,
   "id": "7ac0a3f8",
   "metadata": {},
   "outputs": [
    {
     "data": {
      "text/html": [
       "<div>\n",
       "<style scoped>\n",
       "    .dataframe tbody tr th:only-of-type {\n",
       "        vertical-align: middle;\n",
       "    }\n",
       "\n",
       "    .dataframe tbody tr th {\n",
       "        vertical-align: top;\n",
       "    }\n",
       "\n",
       "    .dataframe thead th {\n",
       "        text-align: right;\n",
       "    }\n",
       "</style>\n",
       "<table border=\"1\" class=\"dataframe\">\n",
       "  <thead>\n",
       "    <tr style=\"text-align: right;\">\n",
       "      <th></th>\n",
       "      <th>parcela_catastral</th>\n",
       "      <th>immb_us_prn</th>\n",
       "      <th>sup_total</th>\n",
       "      <th>sup_viv_sbr</th>\n",
       "      <th>demanda_cal_cte</th>\n",
       "      <th>geometry</th>\n",
       "    </tr>\n",
       "  </thead>\n",
       "  <tbody>\n",
       "    <tr>\n",
       "      <th>0</th>\n",
       "      <td>63939911378595</td>\n",
       "      <td>Residencial</td>\n",
       "      <td>505.0</td>\n",
       "      <td>505.0</td>\n",
       "      <td>NaN</td>\n",
       "      <td>MULTIPOLYGON (((595568.124 4417209.480, 595563...</td>\n",
       "    </tr>\n",
       "    <tr>\n",
       "      <th>1</th>\n",
       "      <td>93428957957876</td>\n",
       "      <td>AltresNoCal</td>\n",
       "      <td>265.0</td>\n",
       "      <td>0.0</td>\n",
       "      <td>NaN</td>\n",
       "      <td>MULTIPOLYGON (((595167.927 4419452.085, 595147...</td>\n",
       "    </tr>\n",
       "    <tr>\n",
       "      <th>2</th>\n",
       "      <td>91748101647838</td>\n",
       "      <td>Emmagatzematge</td>\n",
       "      <td>9.0</td>\n",
       "      <td>0.0</td>\n",
       "      <td>NaN</td>\n",
       "      <td>MULTIPOLYGON (((595171.157 4419445.925, 595171...</td>\n",
       "    </tr>\n",
       "    <tr>\n",
       "      <th>3</th>\n",
       "      <td>38225472390951</td>\n",
       "      <td>Emmagatzematge</td>\n",
       "      <td>22.0</td>\n",
       "      <td>0.0</td>\n",
       "      <td>NaN</td>\n",
       "      <td>MULTIPOLYGON (((595578.285 4416970.042, 595583...</td>\n",
       "    </tr>\n",
       "    <tr>\n",
       "      <th>4</th>\n",
       "      <td>66150954127328</td>\n",
       "      <td>Emmagatzematge</td>\n",
       "      <td>9.0</td>\n",
       "      <td>0.0</td>\n",
       "      <td>NaN</td>\n",
       "      <td>MULTIPOLYGON (((594968.813 4422211.527, 594966...</td>\n",
       "    </tr>\n",
       "  </tbody>\n",
       "</table>\n",
       "</div>"
      ],
      "text/plain": [
       "  parcela_catastral     immb_us_prn  sup_total  sup_viv_sbr  demanda_cal_cte  \\\n",
       "0    63939911378595     Residencial      505.0        505.0              NaN   \n",
       "1    93428957957876     AltresNoCal      265.0          0.0              NaN   \n",
       "2    91748101647838  Emmagatzematge        9.0          0.0              NaN   \n",
       "3    38225472390951  Emmagatzematge       22.0          0.0              NaN   \n",
       "4    66150954127328  Emmagatzematge        9.0          0.0              NaN   \n",
       "\n",
       "                                            geometry  \n",
       "0  MULTIPOLYGON (((595568.124 4417209.480, 595563...  \n",
       "1  MULTIPOLYGON (((595167.927 4419452.085, 595147...  \n",
       "2  MULTIPOLYGON (((595171.157 4419445.925, 595171...  \n",
       "3  MULTIPOLYGON (((595578.285 4416970.042, 595583...  \n",
       "4  MULTIPOLYGON (((594968.813 4422211.527, 594966...  "
      ]
     },
     "execution_count": 3,
     "metadata": {},
     "output_type": "execute_result"
    }
   ],
   "source": [
    "cadastral_ref_gdf.head()"
   ]
  },
  {
   "cell_type": "code",
   "execution_count": 4,
   "id": "0787c7a8",
   "metadata": {},
   "outputs": [
    {
     "data": {
      "text/plain": [
       "geopandas.geodataframe.GeoDataFrame"
      ]
     },
     "execution_count": 4,
     "metadata": {},
     "output_type": "execute_result"
    }
   ],
   "source": [
    "# now we have a Geodataframe with valid geometry\n",
    "type(cadastral_ref_gdf)"
   ]
  },
  {
   "cell_type": "code",
   "execution_count": 5,
   "id": "65b30b3c",
   "metadata": {},
   "outputs": [
    {
     "data": {
      "text/plain": [
       "(35991, 6)"
      ]
     },
     "execution_count": 5,
     "metadata": {},
     "output_type": "execute_result"
    }
   ],
   "source": [
    "cadastral_ref_gdf.shape"
   ]
  },
  {
   "cell_type": "code",
   "execution_count": 6,
   "id": "dfb6ba83",
   "metadata": {},
   "outputs": [
    {
     "name": "stdout",
     "output_type": "stream",
     "text": [
      "<class 'geopandas.geodataframe.GeoDataFrame'>\n",
      "RangeIndex: 35991 entries, 0 to 35990\n",
      "Data columns (total 6 columns):\n",
      " #   Column             Non-Null Count  Dtype   \n",
      "---  ------             --------------  -----   \n",
      " 0   parcela_catastral  35991 non-null  object  \n",
      " 1   immb_us_prn        35991 non-null  object  \n",
      " 2   sup_total          35991 non-null  float64 \n",
      " 3   sup_viv_sbr        35991 non-null  float64 \n",
      " 4   demanda_cal_cte    23600 non-null  float64 \n",
      " 5   geometry           35991 non-null  geometry\n",
      "dtypes: float64(3), geometry(1), object(2)\n",
      "memory usage: 1.6+ MB\n"
     ]
    }
   ],
   "source": [
    "cadastral_ref_gdf.info()"
   ]
  },
  {
   "cell_type": "code",
   "execution_count": 7,
   "id": "1cbedb5b",
   "metadata": {},
   "outputs": [
    {
     "data": {
      "text/html": [
       "<div>\n",
       "<style scoped>\n",
       "    .dataframe tbody tr th:only-of-type {\n",
       "        vertical-align: middle;\n",
       "    }\n",
       "\n",
       "    .dataframe tbody tr th {\n",
       "        vertical-align: top;\n",
       "    }\n",
       "\n",
       "    .dataframe thead th {\n",
       "        text-align: right;\n",
       "    }\n",
       "</style>\n",
       "<table border=\"1\" class=\"dataframe\">\n",
       "  <thead>\n",
       "    <tr style=\"text-align: right;\">\n",
       "      <th></th>\n",
       "      <th>sup_total</th>\n",
       "      <th>sup_viv_sbr</th>\n",
       "      <th>demanda_cal_cte</th>\n",
       "    </tr>\n",
       "  </thead>\n",
       "  <tbody>\n",
       "    <tr>\n",
       "      <th>count</th>\n",
       "      <td>35991.000000</td>\n",
       "      <td>35991.000000</td>\n",
       "      <td>23600.000000</td>\n",
       "    </tr>\n",
       "    <tr>\n",
       "      <th>mean</th>\n",
       "      <td>425.627907</td>\n",
       "      <td>179.248159</td>\n",
       "      <td>6828.191080</td>\n",
       "    </tr>\n",
       "    <tr>\n",
       "      <th>std</th>\n",
       "      <td>1470.757165</td>\n",
       "      <td>373.147257</td>\n",
       "      <td>3876.109340</td>\n",
       "    </tr>\n",
       "    <tr>\n",
       "      <th>min</th>\n",
       "      <td>2.000000</td>\n",
       "      <td>0.000000</td>\n",
       "      <td>100.319108</td>\n",
       "    </tr>\n",
       "    <tr>\n",
       "      <th>25%</th>\n",
       "      <td>124.000000</td>\n",
       "      <td>54.000000</td>\n",
       "      <td>3460.362589</td>\n",
       "    </tr>\n",
       "    <tr>\n",
       "      <th>50%</th>\n",
       "      <td>213.000000</td>\n",
       "      <td>123.000000</td>\n",
       "      <td>6853.216876</td>\n",
       "    </tr>\n",
       "    <tr>\n",
       "      <th>75%</th>\n",
       "      <td>351.000000</td>\n",
       "      <td>198.000000</td>\n",
       "      <td>10179.524609</td>\n",
       "    </tr>\n",
       "    <tr>\n",
       "      <th>max</th>\n",
       "      <td>116159.000000</td>\n",
       "      <td>13389.000000</td>\n",
       "      <td>13499.576744</td>\n",
       "    </tr>\n",
       "  </tbody>\n",
       "</table>\n",
       "</div>"
      ],
      "text/plain": [
       "           sup_total   sup_viv_sbr  demanda_cal_cte\n",
       "count   35991.000000  35991.000000     23600.000000\n",
       "mean      425.627907    179.248159      6828.191080\n",
       "std      1470.757165    373.147257      3876.109340\n",
       "min         2.000000      0.000000       100.319108\n",
       "25%       124.000000     54.000000      3460.362589\n",
       "50%       213.000000    123.000000      6853.216876\n",
       "75%       351.000000    198.000000     10179.524609\n",
       "max    116159.000000  13389.000000     13499.576744"
      ]
     },
     "execution_count": 7,
     "metadata": {},
     "output_type": "execute_result"
    }
   ],
   "source": [
    "cadastral_ref_gdf.describe() "
   ]
  },
  {
   "cell_type": "markdown",
   "id": "4580647e",
   "metadata": {},
   "source": [
    "One time observed the main characteristics we will proceed with the exercices."
   ]
  },
  {
   "cell_type": "markdown",
   "id": "91209b95",
   "metadata": {},
   "source": [
    "## 1. Assign census code id (‘id’ )  to every cadastral reference ( ‘parcela_catastral’)."
   ]
  },
  {
   "cell_type": "markdown",
   "id": "6fa13949",
   "metadata": {},
   "source": [
    "As we don't have the id field we will have to obtain it form the data table CensusAreas."
   ]
  },
  {
   "cell_type": "code",
   "execution_count": 8,
   "id": "514766f8",
   "metadata": {},
   "outputs": [
    {
     "name": "stderr",
     "output_type": "stream",
     "text": [
      "C:\\Users\\34639\\anaconda3\\envs\\geo_env\\lib\\site-packages\\geopandas\\geodataframe.py:577: RuntimeWarning: Sequential read of iterator was interrupted. Resetting iterator. This can negatively impact the performance.\n",
      "  for feature in features_lst:\n"
     ]
    }
   ],
   "source": [
    "census_ares_gdf = gpd.read_file('Ciclica_test_gis.gpkg', layer='CensusAreas')"
   ]
  },
  {
   "cell_type": "code",
   "execution_count": 9,
   "id": "e984fde7",
   "metadata": {},
   "outputs": [
    {
     "data": {
      "text/html": [
       "<div>\n",
       "<style scoped>\n",
       "    .dataframe tbody tr th:only-of-type {\n",
       "        vertical-align: middle;\n",
       "    }\n",
       "\n",
       "    .dataframe tbody tr th {\n",
       "        vertical-align: top;\n",
       "    }\n",
       "\n",
       "    .dataframe thead th {\n",
       "        text-align: right;\n",
       "    }\n",
       "</style>\n",
       "<table border=\"1\" class=\"dataframe\">\n",
       "  <thead>\n",
       "    <tr style=\"text-align: right;\">\n",
       "      <th></th>\n",
       "      <th>id</th>\n",
       "      <th>geometry</th>\n",
       "    </tr>\n",
       "  </thead>\n",
       "  <tbody>\n",
       "    <tr>\n",
       "      <th>0</th>\n",
       "      <td>0700201001</td>\n",
       "      <td>MULTIPOLYGON (((4.19981 39.97058, 4.20001 39.9...</td>\n",
       "    </tr>\n",
       "    <tr>\n",
       "      <th>1</th>\n",
       "      <td>0700202001</td>\n",
       "      <td>MULTIPOLYGON (((4.13977 39.93362, 4.13977 39.9...</td>\n",
       "    </tr>\n",
       "    <tr>\n",
       "      <th>2</th>\n",
       "      <td>0700202003</td>\n",
       "      <td>MULTIPOLYGON (((4.13677 39.86414, 4.13657 39.8...</td>\n",
       "    </tr>\n",
       "    <tr>\n",
       "      <th>3</th>\n",
       "      <td>0701501001</td>\n",
       "      <td>MULTIPOLYGON (((3.84119 40.00544, 3.84063 40.0...</td>\n",
       "    </tr>\n",
       "    <tr>\n",
       "      <th>4</th>\n",
       "      <td>0701501003</td>\n",
       "      <td>MULTIPOLYGON (((3.83554 40.00015, 3.83341 39.9...</td>\n",
       "    </tr>\n",
       "  </tbody>\n",
       "</table>\n",
       "</div>"
      ],
      "text/plain": [
       "           id                                           geometry\n",
       "0  0700201001  MULTIPOLYGON (((4.19981 39.97058, 4.20001 39.9...\n",
       "1  0700202001  MULTIPOLYGON (((4.13977 39.93362, 4.13977 39.9...\n",
       "2  0700202003  MULTIPOLYGON (((4.13677 39.86414, 4.13657 39.8...\n",
       "3  0701501001  MULTIPOLYGON (((3.84119 40.00544, 3.84063 40.0...\n",
       "4  0701501003  MULTIPOLYGON (((3.83554 40.00015, 3.83341 39.9..."
      ]
     },
     "execution_count": 9,
     "metadata": {},
     "output_type": "execute_result"
    }
   ],
   "source": [
    "census_ares_gdf.head()"
   ]
  },
  {
   "cell_type": "code",
   "execution_count": 10,
   "id": "babed5b1",
   "metadata": {},
   "outputs": [
    {
     "data": {
      "text/plain": [
       "(52, 2)"
      ]
     },
     "execution_count": 10,
     "metadata": {},
     "output_type": "execute_result"
    }
   ],
   "source": [
    "census_ares_gdf.shape"
   ]
  },
  {
   "cell_type": "code",
   "execution_count": 11,
   "id": "f9f657ed",
   "metadata": {},
   "outputs": [
    {
     "name": "stdout",
     "output_type": "stream",
     "text": [
      "<class 'geopandas.geodataframe.GeoDataFrame'>\n",
      "RangeIndex: 52 entries, 0 to 51\n",
      "Data columns (total 2 columns):\n",
      " #   Column    Non-Null Count  Dtype   \n",
      "---  ------    --------------  -----   \n",
      " 0   id        52 non-null     object  \n",
      " 1   geometry  52 non-null     geometry\n",
      "dtypes: geometry(1), object(1)\n",
      "memory usage: 960.0+ bytes\n"
     ]
    }
   ],
   "source": [
    "census_ares_gdf.info()"
   ]
  },
  {
   "cell_type": "markdown",
   "id": "09725056",
   "metadata": {},
   "source": [
    "#### What to keep in mind?\n",
    "\n",
    "Every cadastral_ref_gdf Multipolygon is contained in a census_area_gdf Multipolygon, and how there isn't a common field we have to do a **geospatial join** and for **one** census area witt be **many** cadastral_ref_gdf[\"parcela_catastral\"]. The final table has to have the same rows as cadastral_ref_gdf-the null geometris(0).\n",
    "\n",
    "[Spatial Joins Geopandas](https://geopandas.org/en/stable/gallery/spatial_joins.html)\n",
    "\n",
    "https://geopandas.org/en/stable/docs/user_guide/mergingdata.html\n",
    "\n",
    "[Own example](https://github.com/JosepAnSabate/jupyter_maps/blob/main/mapes_covid/6_mapacovid_vacunacio.ipynb)"
   ]
  },
  {
   "cell_type": "markdown",
   "id": "646f43f7",
   "metadata": {},
   "source": [
    "In a LEFT OUTER JOIN (how='left'), we keep all rows from the left and duplicate them if necessary to represent multiple hits between the two dataframes. Spatial Joins Geopandas. "
   ]
  },
  {
   "cell_type": "code",
   "execution_count": 14,
   "id": "d3b0d18e",
   "metadata": {},
   "outputs": [],
   "source": [
    "from shapely.geometry import Point"
   ]
  },
  {
   "cell_type": "code",
   "execution_count": 15,
   "id": "9629d1af",
   "metadata": {},
   "outputs": [
    {
     "ename": "AttributeError",
     "evalue": "'GeoDataFrame' object has no attribute 'sjoin'",
     "output_type": "error",
     "traceback": [
      "\u001b[1;31m---------------------------------------------------------------------------\u001b[0m",
      "\u001b[1;31mAttributeError\u001b[0m                            Traceback (most recent call last)",
      "\u001b[1;32m~\\AppData\\Local\\Temp/ipykernel_33188/2078287881.py\u001b[0m in \u001b[0;36m<module>\u001b[1;34m\u001b[0m\n\u001b[0;32m      1\u001b[0m \u001b[1;31m# spatial join  between two GeoDataFrames\u001b[0m\u001b[1;33m\u001b[0m\u001b[1;33m\u001b[0m\u001b[1;33m\u001b[0m\u001b[0m\n\u001b[1;32m----> 2\u001b[1;33m \u001b[0mjoin_cadastral_gdf\u001b[0m \u001b[1;33m=\u001b[0m \u001b[0mcensus_ares_gdf\u001b[0m\u001b[1;33m.\u001b[0m\u001b[0msjoin\u001b[0m\u001b[1;33m(\u001b[0m\u001b[0mcadastral_ref_gdf\u001b[0m\u001b[1;33m,\u001b[0m \u001b[0mcensus_ares_gdf\u001b[0m\u001b[1;33m,\u001b[0m\u001b[0mhow\u001b[0m\u001b[1;33m=\u001b[0m\u001b[1;34m\"right\"\u001b[0m\u001b[1;33m,\u001b[0m \u001b[0mop\u001b[0m\u001b[1;33m=\u001b[0m\u001b[1;34m\"within\"\u001b[0m\u001b[1;33m)\u001b[0m\u001b[1;33m\u001b[0m\u001b[1;33m\u001b[0m\u001b[0m\n\u001b[0m\u001b[0;32m      3\u001b[0m \u001b[0mjoin_cadastral_gdf\u001b[0m\u001b[1;33m\u001b[0m\u001b[1;33m\u001b[0m\u001b[0m\n",
      "\u001b[1;32m~\\anaconda3\\envs\\geo_env\\lib\\site-packages\\pandas\\core\\generic.py\u001b[0m in \u001b[0;36m__getattr__\u001b[1;34m(self, name)\u001b[0m\n\u001b[0;32m   5485\u001b[0m         ):\n\u001b[0;32m   5486\u001b[0m             \u001b[1;32mreturn\u001b[0m \u001b[0mself\u001b[0m\u001b[1;33m[\u001b[0m\u001b[0mname\u001b[0m\u001b[1;33m]\u001b[0m\u001b[1;33m\u001b[0m\u001b[1;33m\u001b[0m\u001b[0m\n\u001b[1;32m-> 5487\u001b[1;33m         \u001b[1;32mreturn\u001b[0m \u001b[0mobject\u001b[0m\u001b[1;33m.\u001b[0m\u001b[0m__getattribute__\u001b[0m\u001b[1;33m(\u001b[0m\u001b[0mself\u001b[0m\u001b[1;33m,\u001b[0m \u001b[0mname\u001b[0m\u001b[1;33m)\u001b[0m\u001b[1;33m\u001b[0m\u001b[1;33m\u001b[0m\u001b[0m\n\u001b[0m\u001b[0;32m   5488\u001b[0m \u001b[1;33m\u001b[0m\u001b[0m\n\u001b[0;32m   5489\u001b[0m     \u001b[1;32mdef\u001b[0m \u001b[0m__setattr__\u001b[0m\u001b[1;33m(\u001b[0m\u001b[0mself\u001b[0m\u001b[1;33m,\u001b[0m \u001b[0mname\u001b[0m\u001b[1;33m:\u001b[0m \u001b[0mstr\u001b[0m\u001b[1;33m,\u001b[0m \u001b[0mvalue\u001b[0m\u001b[1;33m)\u001b[0m \u001b[1;33m->\u001b[0m \u001b[1;32mNone\u001b[0m\u001b[1;33m:\u001b[0m\u001b[1;33m\u001b[0m\u001b[1;33m\u001b[0m\u001b[0m\n",
      "\u001b[1;31mAttributeError\u001b[0m: 'GeoDataFrame' object has no attribute 'sjoin'"
     ]
    }
   ],
   "source": [
    "# spatial join  between two GeoDataFrames\n",
    "join_cadastral_gdf = census_ares_gdf.sjoin(cadastral_ref_gdf, census_ares_gdf,how=\"right\", op=\"within\")\n",
    "join_cadastral_gdf"
   ]
  },
  {
   "cell_type": "code",
   "execution_count": null,
   "id": "b1377a71",
   "metadata": {},
   "outputs": [],
   "source": []
  }
 ],
 "metadata": {
  "kernelspec": {
   "display_name": "Python 3 (ipykernel)",
   "language": "python",
   "name": "python3"
  },
  "language_info": {
   "codemirror_mode": {
    "name": "ipython",
    "version": 3
   },
   "file_extension": ".py",
   "mimetype": "text/x-python",
   "name": "python",
   "nbconvert_exporter": "python",
   "pygments_lexer": "ipython3",
   "version": "3.8.10"
  }
 },
 "nbformat": 4,
 "nbformat_minor": 5
}
