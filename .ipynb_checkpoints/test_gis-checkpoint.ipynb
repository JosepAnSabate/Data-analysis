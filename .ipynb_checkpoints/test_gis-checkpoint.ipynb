{
 "cells": [
  {
   "cell_type": "code",
   "execution_count": null,
   "id": "9a55c22e",
   "metadata": {},
   "outputs": [],
   "source": [
    "import geopandas as gpd\n",
    "import pandas as pd\n",
    "from geopandas import datasets, GeoDataFrame, read_file\n",
    "\n",
    "\n",
    "%matplotlib inline"
   ]
  },
  {
   "cell_type": "code",
   "execution_count": null,
   "id": "45beb44c",
   "metadata": {},
   "outputs": [],
   "source": [
    "# reading the geopackage\n",
    "cadastral_ref_gdf = gpd.read_file(\"Ciclica_test_gis.gpkg\", layer='CadastralReferences')"
   ]
  },
  {
   "cell_type": "code",
   "execution_count": null,
   "id": "26b33d8f",
   "metadata": {},
   "outputs": [],
   "source": [
    "cadastral_ref_gdf.head()"
   ]
  },
  {
   "cell_type": "code",
   "execution_count": null,
   "id": "53d5a725",
   "metadata": {},
   "outputs": [],
   "source": [
    "# now we have a Geodataframe with valid geometry\n",
    "type(cadastral_ref_gdf)"
   ]
  },
  {
   "cell_type": "code",
   "execution_count": null,
   "id": "52954dbb",
   "metadata": {},
   "outputs": [],
   "source": [
    "cadastral_ref_gdf.shape"
   ]
  },
  {
   "cell_type": "code",
   "execution_count": null,
   "id": "077152d9",
   "metadata": {},
   "outputs": [],
   "source": [
    "cadastral_ref_gdf.info()"
   ]
  },
  {
   "cell_type": "code",
   "execution_count": null,
   "id": "7e65a01a",
   "metadata": {},
   "outputs": [],
   "source": [
    "cadastral_ref_gdf.describe() "
   ]
  },
  {
   "cell_type": "markdown",
   "id": "1940e9c6",
   "metadata": {},
   "source": [
    "One time observed the main characteristics we will proceed with the exercices."
   ]
  },
  {
   "cell_type": "markdown",
   "id": "e5d8bb8d",
   "metadata": {},
   "source": [
    "## 1. Assign census code id (‘id’ )  to every cadastral reference ( ‘parcela_catastral’)."
   ]
  },
  {
   "cell_type": "markdown",
   "id": "250845ce",
   "metadata": {},
   "source": [
    "As we don't have the id field we will have to obtain it form the data table CensusAreas."
   ]
  },
  {
   "cell_type": "code",
   "execution_count": null,
   "id": "3d7ba5a0",
   "metadata": {},
   "outputs": [],
   "source": [
    "census_ares_gdf = gpd.read_file('Ciclica_test_gis.gpkg', layer='CensusAreas')"
   ]
  },
  {
   "cell_type": "code",
   "execution_count": null,
   "id": "1a90ad31",
   "metadata": {},
   "outputs": [],
   "source": [
    "census_ares_gdf.head()"
   ]
  },
  {
   "cell_type": "code",
   "execution_count": null,
   "id": "93998d77",
   "metadata": {},
   "outputs": [],
   "source": [
    "census_ares_gdf.shape"
   ]
  },
  {
   "cell_type": "code",
   "execution_count": null,
   "id": "2e6f78fb",
   "metadata": {},
   "outputs": [],
   "source": [
    "census_ares_gdf.info()"
   ]
  },
  {
   "cell_type": "markdown",
   "id": "bd108676",
   "metadata": {},
   "source": [
    "#### What to keep in mind?\n",
    "\n",
    "Every cadastral_ref_gdf Multipolygon is contained in a census_area_gdf Multipolygon, and how there isn't a common field we have to do a **geospatial join** and for **one** census area witt be **many** cadastral_ref_gdf[\"parcela_catastral\"]. The final table has to have the same rows as cadastral_ref_gdf-the null geometris(0).\n",
    "\n",
    "[Spatial Joins Geopandas](https://geopandas.org/en/stable/gallery/spatial_joins.html)\n",
    "\n",
    "https://geopandas.org/en/stable/docs/user_guide/mergingdata.html\n",
    "\n",
    "[Own example](https://github.com/JosepAnSabate/jupyter_maps/blob/main/mapes_covid/6_mapacovid_vacunacio.ipynb)"
   ]
  },
  {
   "cell_type": "markdown",
   "id": "b19662b2",
   "metadata": {},
   "source": [
    "In a LEFT OUTER JOIN (how='left'), we keep all rows from the left and duplicate them if necessary to represent multiple hits between the two dataframes. Spatial Joins Geopandas. "
   ]
  },
  {
   "cell_type": "code",
   "execution_count": null,
   "id": "d7eb6ab8",
   "metadata": {},
   "outputs": [],
   "source": [
    "# spatial join  between two GeoDataFrames\n",
    "join_cadastral_gdf = census_ares_gdf.sjoin(cadastral_ref_gdf, how=\"right\", op=\"within\")\n",
    "join_cadastral_gdf"
   ]
  },
  {
   "cell_type": "code",
   "execution_count": null,
   "id": "3323eef0",
   "metadata": {},
   "outputs": [],
   "source": []
  }
 ],
 "metadata": {
  "kernelspec": {
   "display_name": "Python 3 (ipykernel)",
   "language": "python",
   "name": "python3"
  },
  "language_info": {
   "codemirror_mode": {
    "name": "ipython",
    "version": 3
   },
   "file_extension": ".py",
   "mimetype": "text/x-python",
   "name": "python",
   "nbconvert_exporter": "python",
   "pygments_lexer": "ipython3",
   "version": "3.8.10"
  }
 },
 "nbformat": 4,
 "nbformat_minor": 5
}
