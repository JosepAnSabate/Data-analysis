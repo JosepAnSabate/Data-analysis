{
 "cells": [
  {
   "cell_type": "code",
   "execution_count": 1,
   "id": "845096d0",
   "metadata": {
    "scrolled": true
   },
   "outputs": [],
   "source": [
    "import pandas as pd\n",
    "import numpy as np\n",
    "import sys\n",
    "import matplotlib"
   ]
  },
  {
   "cell_type": "code",
   "execution_count": 2,
   "id": "d90befaf",
   "metadata": {},
   "outputs": [],
   "source": [
    "import geopandas as gpd\n",
    "import geopandas"
   ]
  },
  {
   "cell_type": "code",
   "execution_count": 3,
   "id": "53eab9ac",
   "metadata": {},
   "outputs": [
    {
     "data": {
      "text/plain": [
       "True"
      ]
     },
     "execution_count": 3,
     "metadata": {},
     "output_type": "execute_result"
    }
   ],
   "source": [
    " 'geopandas' in sys.modules # check geopandas module"
   ]
  },
  {
   "cell_type": "code",
   "execution_count": 4,
   "id": "2147315f",
   "metadata": {},
   "outputs": [
    {
     "data": {
      "text/plain": [
       "'C:\\\\Users\\\\34639\\\\anaconda3\\\\envs\\\\geo_env\\\\python.exe'"
      ]
     },
     "execution_count": 4,
     "metadata": {},
     "output_type": "execute_result"
    }
   ],
   "source": [
    "sys.executable # check running enviornment"
   ]
  },
  {
   "cell_type": "code",
   "execution_count": 5,
   "id": "fee273ba",
   "metadata": {},
   "outputs": [],
   "source": [
    "from platform import python_version"
   ]
  },
  {
   "cell_type": "code",
   "execution_count": 6,
   "id": "23843759",
   "metadata": {
    "scrolled": true
   },
   "outputs": [
    {
     "name": "stdout",
     "output_type": "stream",
     "text": [
      "3.8.10\n"
     ]
    }
   ],
   "source": [
    "print(python_version()) # python version\n"
   ]
  },
  {
   "cell_type": "code",
   "execution_count": 7,
   "id": "2cdf36a4",
   "metadata": {},
   "outputs": [
    {
     "name": "stderr",
     "output_type": "stream",
     "text": [
      "C:\\Users\\34639\\anaconda3\\envs\\geo_env\\lib\\site-packages\\geopandas\\geodataframe.py:577: RuntimeWarning: Sequential read of iterator was interrupted. Resetting iterator. This can negatively impact the performance.\n",
      "  for feature in features_lst:\n"
     ]
    }
   ],
   "source": [
    "# reading the geopackage\n",
    "cadastral_ref_gdf = gpd.read_file(\"Ciclica_test_gis.gpkg\", layer='CadastralReferences')\n"
   ]
  },
  {
   "cell_type": "code",
   "execution_count": 8,
   "id": "436e8efe",
   "metadata": {},
   "outputs": [
    {
     "data": {
      "text/html": [
       "<div>\n",
       "<style scoped>\n",
       "    .dataframe tbody tr th:only-of-type {\n",
       "        vertical-align: middle;\n",
       "    }\n",
       "\n",
       "    .dataframe tbody tr th {\n",
       "        vertical-align: top;\n",
       "    }\n",
       "\n",
       "    .dataframe thead th {\n",
       "        text-align: right;\n",
       "    }\n",
       "</style>\n",
       "<table border=\"1\" class=\"dataframe\">\n",
       "  <thead>\n",
       "    <tr style=\"text-align: right;\">\n",
       "      <th></th>\n",
       "      <th>parcela_catastral</th>\n",
       "      <th>immb_us_prn</th>\n",
       "      <th>sup_total</th>\n",
       "      <th>sup_viv_sbr</th>\n",
       "      <th>demanda_cal_cte</th>\n",
       "      <th>geometry</th>\n",
       "    </tr>\n",
       "  </thead>\n",
       "  <tbody>\n",
       "    <tr>\n",
       "      <th>0</th>\n",
       "      <td>63939911378595</td>\n",
       "      <td>Residencial</td>\n",
       "      <td>505.0</td>\n",
       "      <td>505.0</td>\n",
       "      <td>NaN</td>\n",
       "      <td>MULTIPOLYGON (((595568.124 4417209.480, 595563...</td>\n",
       "    </tr>\n",
       "    <tr>\n",
       "      <th>1</th>\n",
       "      <td>93428957957876</td>\n",
       "      <td>AltresNoCal</td>\n",
       "      <td>265.0</td>\n",
       "      <td>0.0</td>\n",
       "      <td>NaN</td>\n",
       "      <td>MULTIPOLYGON (((595167.927 4419452.085, 595147...</td>\n",
       "    </tr>\n",
       "    <tr>\n",
       "      <th>2</th>\n",
       "      <td>91748101647838</td>\n",
       "      <td>Emmagatzematge</td>\n",
       "      <td>9.0</td>\n",
       "      <td>0.0</td>\n",
       "      <td>NaN</td>\n",
       "      <td>MULTIPOLYGON (((595171.157 4419445.925, 595171...</td>\n",
       "    </tr>\n",
       "    <tr>\n",
       "      <th>3</th>\n",
       "      <td>38225472390951</td>\n",
       "      <td>Emmagatzematge</td>\n",
       "      <td>22.0</td>\n",
       "      <td>0.0</td>\n",
       "      <td>NaN</td>\n",
       "      <td>MULTIPOLYGON (((595578.285 4416970.042, 595583...</td>\n",
       "    </tr>\n",
       "    <tr>\n",
       "      <th>4</th>\n",
       "      <td>66150954127328</td>\n",
       "      <td>Emmagatzematge</td>\n",
       "      <td>9.0</td>\n",
       "      <td>0.0</td>\n",
       "      <td>NaN</td>\n",
       "      <td>MULTIPOLYGON (((594968.813 4422211.527, 594966...</td>\n",
       "    </tr>\n",
       "  </tbody>\n",
       "</table>\n",
       "</div>"
      ],
      "text/plain": [
       "  parcela_catastral     immb_us_prn  sup_total  sup_viv_sbr  demanda_cal_cte  \\\n",
       "0    63939911378595     Residencial      505.0        505.0              NaN   \n",
       "1    93428957957876     AltresNoCal      265.0          0.0              NaN   \n",
       "2    91748101647838  Emmagatzematge        9.0          0.0              NaN   \n",
       "3    38225472390951  Emmagatzematge       22.0          0.0              NaN   \n",
       "4    66150954127328  Emmagatzematge        9.0          0.0              NaN   \n",
       "\n",
       "                                            geometry  \n",
       "0  MULTIPOLYGON (((595568.124 4417209.480, 595563...  \n",
       "1  MULTIPOLYGON (((595167.927 4419452.085, 595147...  \n",
       "2  MULTIPOLYGON (((595171.157 4419445.925, 595171...  \n",
       "3  MULTIPOLYGON (((595578.285 4416970.042, 595583...  \n",
       "4  MULTIPOLYGON (((594968.813 4422211.527, 594966...  "
      ]
     },
     "execution_count": 8,
     "metadata": {},
     "output_type": "execute_result"
    }
   ],
   "source": [
    "cadastral_ref_gdf.head()"
   ]
  },
  {
   "cell_type": "code",
   "execution_count": 9,
   "id": "c0fc955c",
   "metadata": {},
   "outputs": [
    {
     "data": {
      "text/plain": [
       "geopandas.geodataframe.GeoDataFrame"
      ]
     },
     "execution_count": 9,
     "metadata": {},
     "output_type": "execute_result"
    }
   ],
   "source": [
    "# now we have a Geodataframe with valid geometry\n",
    "type(cadastral_ref_gdf)"
   ]
  },
  {
   "cell_type": "code",
   "execution_count": 10,
   "id": "4b638180",
   "metadata": {},
   "outputs": [
    {
     "data": {
      "text/plain": [
       "(35991, 6)"
      ]
     },
     "execution_count": 10,
     "metadata": {},
     "output_type": "execute_result"
    }
   ],
   "source": [
    "cadastral_ref_gdf.shape"
   ]
  },
  {
   "cell_type": "code",
   "execution_count": 11,
   "id": "191fb712",
   "metadata": {},
   "outputs": [
    {
     "name": "stdout",
     "output_type": "stream",
     "text": [
      "<class 'geopandas.geodataframe.GeoDataFrame'>\n",
      "RangeIndex: 35991 entries, 0 to 35990\n",
      "Data columns (total 6 columns):\n",
      " #   Column             Non-Null Count  Dtype   \n",
      "---  ------             --------------  -----   \n",
      " 0   parcela_catastral  35991 non-null  object  \n",
      " 1   immb_us_prn        35991 non-null  object  \n",
      " 2   sup_total          35991 non-null  float64 \n",
      " 3   sup_viv_sbr        35991 non-null  float64 \n",
      " 4   demanda_cal_cte    23600 non-null  float64 \n",
      " 5   geometry           35991 non-null  geometry\n",
      "dtypes: float64(3), geometry(1), object(2)\n",
      "memory usage: 1.6+ MB\n"
     ]
    }
   ],
   "source": [
    "cadastral_ref_gdf.info()"
   ]
  },
  {
   "cell_type": "code",
   "execution_count": 12,
   "id": "1e96152f",
   "metadata": {},
   "outputs": [
    {
     "data": {
      "text/html": [
       "<div>\n",
       "<style scoped>\n",
       "    .dataframe tbody tr th:only-of-type {\n",
       "        vertical-align: middle;\n",
       "    }\n",
       "\n",
       "    .dataframe tbody tr th {\n",
       "        vertical-align: top;\n",
       "    }\n",
       "\n",
       "    .dataframe thead th {\n",
       "        text-align: right;\n",
       "    }\n",
       "</style>\n",
       "<table border=\"1\" class=\"dataframe\">\n",
       "  <thead>\n",
       "    <tr style=\"text-align: right;\">\n",
       "      <th></th>\n",
       "      <th>sup_total</th>\n",
       "      <th>sup_viv_sbr</th>\n",
       "      <th>demanda_cal_cte</th>\n",
       "    </tr>\n",
       "  </thead>\n",
       "  <tbody>\n",
       "    <tr>\n",
       "      <th>count</th>\n",
       "      <td>35991.000000</td>\n",
       "      <td>35991.000000</td>\n",
       "      <td>23600.000000</td>\n",
       "    </tr>\n",
       "    <tr>\n",
       "      <th>mean</th>\n",
       "      <td>425.627907</td>\n",
       "      <td>179.248159</td>\n",
       "      <td>6828.191080</td>\n",
       "    </tr>\n",
       "    <tr>\n",
       "      <th>std</th>\n",
       "      <td>1470.757165</td>\n",
       "      <td>373.147257</td>\n",
       "      <td>3876.109340</td>\n",
       "    </tr>\n",
       "    <tr>\n",
       "      <th>min</th>\n",
       "      <td>2.000000</td>\n",
       "      <td>0.000000</td>\n",
       "      <td>100.319108</td>\n",
       "    </tr>\n",
       "    <tr>\n",
       "      <th>25%</th>\n",
       "      <td>124.000000</td>\n",
       "      <td>54.000000</td>\n",
       "      <td>3460.362589</td>\n",
       "    </tr>\n",
       "    <tr>\n",
       "      <th>50%</th>\n",
       "      <td>213.000000</td>\n",
       "      <td>123.000000</td>\n",
       "      <td>6853.216876</td>\n",
       "    </tr>\n",
       "    <tr>\n",
       "      <th>75%</th>\n",
       "      <td>351.000000</td>\n",
       "      <td>198.000000</td>\n",
       "      <td>10179.524609</td>\n",
       "    </tr>\n",
       "    <tr>\n",
       "      <th>max</th>\n",
       "      <td>116159.000000</td>\n",
       "      <td>13389.000000</td>\n",
       "      <td>13499.576744</td>\n",
       "    </tr>\n",
       "  </tbody>\n",
       "</table>\n",
       "</div>"
      ],
      "text/plain": [
       "           sup_total   sup_viv_sbr  demanda_cal_cte\n",
       "count   35991.000000  35991.000000     23600.000000\n",
       "mean      425.627907    179.248159      6828.191080\n",
       "std      1470.757165    373.147257      3876.109340\n",
       "min         2.000000      0.000000       100.319108\n",
       "25%       124.000000     54.000000      3460.362589\n",
       "50%       213.000000    123.000000      6853.216876\n",
       "75%       351.000000    198.000000     10179.524609\n",
       "max    116159.000000  13389.000000     13499.576744"
      ]
     },
     "execution_count": 12,
     "metadata": {},
     "output_type": "execute_result"
    }
   ],
   "source": [
    "cadastral_ref_gdf.describe() "
   ]
  },
  {
   "cell_type": "markdown",
   "id": "f9981834",
   "metadata": {},
   "source": [
    "One time observed the main characteristics we will proceed with the exercices."
   ]
  },
  {
   "cell_type": "markdown",
   "id": "336e27ef",
   "metadata": {},
   "source": [
    "## 1. Assign census code id (‘id’ )  to every cadastral reference ( ‘parcela_catastral’)."
   ]
  },
  {
   "cell_type": "markdown",
   "id": "905926d4",
   "metadata": {},
   "source": [
    "As we don't have the id field we will have to obtain it form the data table CensusAreas."
   ]
  },
  {
   "cell_type": "code",
   "execution_count": 13,
   "id": "a779adb0",
   "metadata": {},
   "outputs": [
    {
     "name": "stderr",
     "output_type": "stream",
     "text": [
      "C:\\Users\\34639\\anaconda3\\envs\\geo_env\\lib\\site-packages\\geopandas\\geodataframe.py:577: RuntimeWarning: Sequential read of iterator was interrupted. Resetting iterator. This can negatively impact the performance.\n",
      "  for feature in features_lst:\n"
     ]
    }
   ],
   "source": [
    "census_ares_gdf = gpd.read_file('Ciclica_test_gis.gpkg', layer='CensusAreas')"
   ]
  },
  {
   "cell_type": "code",
   "execution_count": 14,
   "id": "c28fab07",
   "metadata": {},
   "outputs": [
    {
     "data": {
      "text/html": [
       "<div>\n",
       "<style scoped>\n",
       "    .dataframe tbody tr th:only-of-type {\n",
       "        vertical-align: middle;\n",
       "    }\n",
       "\n",
       "    .dataframe tbody tr th {\n",
       "        vertical-align: top;\n",
       "    }\n",
       "\n",
       "    .dataframe thead th {\n",
       "        text-align: right;\n",
       "    }\n",
       "</style>\n",
       "<table border=\"1\" class=\"dataframe\">\n",
       "  <thead>\n",
       "    <tr style=\"text-align: right;\">\n",
       "      <th></th>\n",
       "      <th>id</th>\n",
       "      <th>geometry</th>\n",
       "    </tr>\n",
       "  </thead>\n",
       "  <tbody>\n",
       "    <tr>\n",
       "      <th>0</th>\n",
       "      <td>0700201001</td>\n",
       "      <td>MULTIPOLYGON (((4.19981 39.97058, 4.20001 39.9...</td>\n",
       "    </tr>\n",
       "    <tr>\n",
       "      <th>1</th>\n",
       "      <td>0700202001</td>\n",
       "      <td>MULTIPOLYGON (((4.13977 39.93362, 4.13977 39.9...</td>\n",
       "    </tr>\n",
       "    <tr>\n",
       "      <th>2</th>\n",
       "      <td>0700202003</td>\n",
       "      <td>MULTIPOLYGON (((4.13677 39.86414, 4.13657 39.8...</td>\n",
       "    </tr>\n",
       "    <tr>\n",
       "      <th>3</th>\n",
       "      <td>0701501001</td>\n",
       "      <td>MULTIPOLYGON (((3.84119 40.00544, 3.84063 40.0...</td>\n",
       "    </tr>\n",
       "    <tr>\n",
       "      <th>4</th>\n",
       "      <td>0701501003</td>\n",
       "      <td>MULTIPOLYGON (((3.83554 40.00015, 3.83341 39.9...</td>\n",
       "    </tr>\n",
       "  </tbody>\n",
       "</table>\n",
       "</div>"
      ],
      "text/plain": [
       "           id                                           geometry\n",
       "0  0700201001  MULTIPOLYGON (((4.19981 39.97058, 4.20001 39.9...\n",
       "1  0700202001  MULTIPOLYGON (((4.13977 39.93362, 4.13977 39.9...\n",
       "2  0700202003  MULTIPOLYGON (((4.13677 39.86414, 4.13657 39.8...\n",
       "3  0701501001  MULTIPOLYGON (((3.84119 40.00544, 3.84063 40.0...\n",
       "4  0701501003  MULTIPOLYGON (((3.83554 40.00015, 3.83341 39.9..."
      ]
     },
     "execution_count": 14,
     "metadata": {},
     "output_type": "execute_result"
    }
   ],
   "source": [
    "census_ares_gdf.head()"
   ]
  },
  {
   "cell_type": "code",
   "execution_count": 15,
   "id": "8d207c60",
   "metadata": {},
   "outputs": [
    {
     "name": "stdout",
     "output_type": "stream",
     "text": [
      "<class 'geopandas.geodataframe.GeoDataFrame'>\n",
      "RangeIndex: 52 entries, 0 to 51\n",
      "Data columns (total 2 columns):\n",
      " #   Column    Non-Null Count  Dtype   \n",
      "---  ------    --------------  -----   \n",
      " 0   id        52 non-null     object  \n",
      " 1   geometry  52 non-null     geometry\n",
      "dtypes: geometry(1), object(1)\n",
      "memory usage: 960.0+ bytes\n"
     ]
    }
   ],
   "source": [
    "census_ares_gdf.info()"
   ]
  },
  {
   "cell_type": "markdown",
   "id": "4a11779d",
   "metadata": {},
   "source": [
    "#### What to keep in mind?\n",
    "\n",
    "**Coordinate Reference System (CRS): the projection of the data.**\n",
    "\n",
    "Every cadastral_ref_gdf Multipolygon is contained in a census_area_gdf Multipolygon, and how there isn't a common field we have to do a **geospatial join** and for **one** census area witt be **many** cadastral_ref_gdf[\"parcela_catastral\"]. The final table has to have the same rows as cadastral_ref_gdf-the null geometris(0).\n",
    "\n",
    "[Spatial Joins Geopandas](https://geopandas.org/en/stable/gallery/spatial_joins.html)\n",
    "\n",
    "https://geopandas.org/en/stable/docs/user_guide/mergingdata.html\n",
    "\n",
    "[My projects](https://github.com/JosepAnSabate/jupyter_maps/tree/main/earth_data_science/2_Vector_data_py/processing_vector_data)"
   ]
  },
  {
   "cell_type": "code",
   "execution_count": 16,
   "id": "8dceaef0",
   "metadata": {},
   "outputs": [
    {
     "data": {
      "text/plain": [
       "False"
      ]
     },
     "execution_count": 16,
     "metadata": {},
     "output_type": "execute_result"
    }
   ],
   "source": [
    "cadastral_ref_gdf.crs == census_ares_gdf.crs"
   ]
  },
  {
   "cell_type": "code",
   "execution_count": 17,
   "id": "eba440a8",
   "metadata": {},
   "outputs": [
    {
     "data": {
      "text/plain": [
       "<Projected CRS: EPSG:25831>\n",
       "Name: ETRS89 / UTM zone 31N\n",
       "Axis Info [cartesian]:\n",
       "- E[east]: Easting (metre)\n",
       "- N[north]: Northing (metre)\n",
       "Area of Use:\n",
       "- name: Europe between 0°E and 6°E: Andorra; Belgium - onshore and offshore; Denmark - offshore; Germany - offshore; Jan Mayen - offshore; Norway including Svalbard - onshore and offshore; Spain - onshore and offshore.\n",
       "- bounds: (0.0, 37.0, 6.01, 82.41)\n",
       "Coordinate Operation:\n",
       "- name: UTM zone 31N\n",
       "- method: Transverse Mercator\n",
       "Datum: European Terrestrial Reference System 1989\n",
       "- Ellipsoid: GRS 1980\n",
       "- Prime Meridian: Greenwich"
      ]
     },
     "execution_count": 17,
     "metadata": {},
     "output_type": "execute_result"
    }
   ],
   "source": [
    "# View CRS of cadastral_ref_gdf\n",
    "#  Projected coordinate Systems: coordinate systems that are localized to minimize visual distortion \n",
    "# in a particular region (e.g. Robinson, UTM, State Plane)\n",
    "cadastral_ref_gdf.crs"
   ]
  },
  {
   "cell_type": "code",
   "execution_count": 18,
   "id": "3d28a06c",
   "metadata": {},
   "outputs": [
    {
     "data": {
      "text/plain": [
       "<Geographic 2D CRS: EPSG:4326>\n",
       "Name: WGS 84\n",
       "Axis Info [ellipsoidal]:\n",
       "- Lat[north]: Geodetic latitude (degree)\n",
       "- Lon[east]: Geodetic longitude (degree)\n",
       "Area of Use:\n",
       "- name: World.\n",
       "- bounds: (-180.0, -90.0, 180.0, 90.0)\n",
       "Datum: World Geodetic System 1984\n",
       "- Ellipsoid: WGS 84\n",
       "- Prime Meridian: Greenwich"
      ]
     },
     "execution_count": 18,
     "metadata": {},
     "output_type": "execute_result"
    }
   ],
   "source": [
    "# View CRS of census_ares_gdf, Geographic coordinate systems: coordinate systems\n",
    "# that span the entire globe (e.g. latitude / longitude).\n",
    "census_ares_gdf.crs"
   ]
  },
  {
   "cell_type": "markdown",
   "id": "833e96bc",
   "metadata": {},
   "source": [
    "We need to reproject one geodataframe. in this case given that we are working about Barcelona and the region is not much bigger \n",
    "we will reproject **census_ares_gdf to ETRS89 / UTM zone 31N.**"
   ]
  },
  {
   "cell_type": "code",
   "execution_count": 19,
   "id": "6866284c",
   "metadata": {},
   "outputs": [],
   "source": [
    "# Reproject the census_ares_gdf\n",
    "census_ares_gdf_rep  = census_ares_gdf.to_crs(epsg=25831)"
   ]
  },
  {
   "cell_type": "code",
   "execution_count": 20,
   "id": "7b90a0cf",
   "metadata": {},
   "outputs": [
    {
     "data": {
      "text/plain": [
       "True"
      ]
     },
     "execution_count": 20,
     "metadata": {},
     "output_type": "execute_result"
    }
   ],
   "source": [
    "cadastral_ref_gdf.crs == census_ares_gdf_rep.crs"
   ]
  },
  {
   "cell_type": "markdown",
   "id": "f9b447f9",
   "metadata": {},
   "source": [
    "In a LEFT OUTER JOIN (how='left'), we keep all rows from the left and duplicate them if necessary to represent multiple hits between the two dataframes. Spatial Joins Geopandas. "
   ]
  },
  {
   "cell_type": "code",
   "execution_count": 21,
   "id": "650c0fb5",
   "metadata": {},
   "outputs": [],
   "source": [
    "from shapely.geometry import Polygon, LineString, Point "
   ]
  },
  {
   "cell_type": "code",
   "execution_count": 22,
   "id": "15a4347f",
   "metadata": {
    "scrolled": true
   },
   "outputs": [
    {
     "data": {
      "text/plain": [
       "geopandas.geodataframe.GeoDataFrame"
      ]
     },
     "execution_count": 22,
     "metadata": {},
     "output_type": "execute_result"
    }
   ],
   "source": [
    "type(cadastral_ref_gdf)"
   ]
  },
  {
   "cell_type": "code",
   "execution_count": 23,
   "id": "d3a1e8d2",
   "metadata": {},
   "outputs": [
    {
     "data": {
      "text/plain": [
       "geopandas.geodataframe.GeoDataFrame"
      ]
     },
     "execution_count": 23,
     "metadata": {},
     "output_type": "execute_result"
    }
   ],
   "source": [
    "type(census_ares_gdf)"
   ]
  },
  {
   "cell_type": "markdown",
   "id": "2dafdd62",
   "metadata": {},
   "source": [
    "[Source](https://github.com/JosepAnSabate/jupyter_maps/blob/main/earth_data_science/2_Vector_data_py/processing_vector_data/8_How%20to%20Join%20Attributes%20From%20One%20Shapefile%20to%20Another%20in%20Open%20Source%20Python%20Using%20Geopandas.ipynb)"
   ]
  },
  {
   "cell_type": "code",
   "execution_count": 24,
   "id": "4803b05b",
   "metadata": {},
   "outputs": [
    {
     "data": {
      "text/html": [
       "<div>\n",
       "<style scoped>\n",
       "    .dataframe tbody tr th:only-of-type {\n",
       "        vertical-align: middle;\n",
       "    }\n",
       "\n",
       "    .dataframe tbody tr th {\n",
       "        vertical-align: top;\n",
       "    }\n",
       "\n",
       "    .dataframe thead th {\n",
       "        text-align: right;\n",
       "    }\n",
       "</style>\n",
       "<table border=\"1\" class=\"dataframe\">\n",
       "  <thead>\n",
       "    <tr style=\"text-align: right;\">\n",
       "      <th></th>\n",
       "      <th>parcela_catastral</th>\n",
       "      <th>immb_us_prn</th>\n",
       "      <th>sup_total</th>\n",
       "      <th>sup_viv_sbr</th>\n",
       "      <th>demanda_cal_cte</th>\n",
       "      <th>geometry</th>\n",
       "      <th>index_right</th>\n",
       "      <th>id</th>\n",
       "    </tr>\n",
       "  </thead>\n",
       "  <tbody>\n",
       "    <tr>\n",
       "      <th>0</th>\n",
       "      <td>63939911378595</td>\n",
       "      <td>Residencial</td>\n",
       "      <td>505.0</td>\n",
       "      <td>505.0</td>\n",
       "      <td>NaN</td>\n",
       "      <td>MULTIPOLYGON (((595568.124 4417209.480, 595563...</td>\n",
       "      <td>1.0</td>\n",
       "      <td>0700202001</td>\n",
       "    </tr>\n",
       "    <tr>\n",
       "      <th>1</th>\n",
       "      <td>93428957957876</td>\n",
       "      <td>AltresNoCal</td>\n",
       "      <td>265.0</td>\n",
       "      <td>0.0</td>\n",
       "      <td>NaN</td>\n",
       "      <td>MULTIPOLYGON (((595167.927 4419452.085, 595147...</td>\n",
       "      <td>37.0</td>\n",
       "      <td>0700201002</td>\n",
       "    </tr>\n",
       "    <tr>\n",
       "      <th>2</th>\n",
       "      <td>91748101647838</td>\n",
       "      <td>Emmagatzematge</td>\n",
       "      <td>9.0</td>\n",
       "      <td>0.0</td>\n",
       "      <td>NaN</td>\n",
       "      <td>MULTIPOLYGON (((595171.157 4419445.925, 595171...</td>\n",
       "      <td>37.0</td>\n",
       "      <td>0700201002</td>\n",
       "    </tr>\n",
       "    <tr>\n",
       "      <th>3</th>\n",
       "      <td>38225472390951</td>\n",
       "      <td>Emmagatzematge</td>\n",
       "      <td>22.0</td>\n",
       "      <td>0.0</td>\n",
       "      <td>NaN</td>\n",
       "      <td>MULTIPOLYGON (((595578.285 4416970.042, 595583...</td>\n",
       "      <td>1.0</td>\n",
       "      <td>0700202001</td>\n",
       "    </tr>\n",
       "    <tr>\n",
       "      <th>4</th>\n",
       "      <td>66150954127328</td>\n",
       "      <td>Emmagatzematge</td>\n",
       "      <td>9.0</td>\n",
       "      <td>0.0</td>\n",
       "      <td>NaN</td>\n",
       "      <td>MULTIPOLYGON (((594968.813 4422211.527, 594966...</td>\n",
       "      <td>37.0</td>\n",
       "      <td>0700201002</td>\n",
       "    </tr>\n",
       "  </tbody>\n",
       "</table>\n",
       "</div>"
      ],
      "text/plain": [
       "  parcela_catastral     immb_us_prn  sup_total  sup_viv_sbr  demanda_cal_cte  \\\n",
       "0    63939911378595     Residencial      505.0        505.0              NaN   \n",
       "1    93428957957876     AltresNoCal      265.0          0.0              NaN   \n",
       "2    91748101647838  Emmagatzematge        9.0          0.0              NaN   \n",
       "3    38225472390951  Emmagatzematge       22.0          0.0              NaN   \n",
       "4    66150954127328  Emmagatzematge        9.0          0.0              NaN   \n",
       "\n",
       "                                            geometry  index_right          id  \n",
       "0  MULTIPOLYGON (((595568.124 4417209.480, 595563...          1.0  0700202001  \n",
       "1  MULTIPOLYGON (((595167.927 4419452.085, 595147...         37.0  0700201002  \n",
       "2  MULTIPOLYGON (((595171.157 4419445.925, 595171...         37.0  0700201002  \n",
       "3  MULTIPOLYGON (((595578.285 4416970.042, 595583...          1.0  0700202001  \n",
       "4  MULTIPOLYGON (((594968.813 4422211.527, 594966...         37.0  0700201002  "
      ]
     },
     "execution_count": 24,
     "metadata": {},
     "output_type": "execute_result"
    }
   ],
   "source": [
    "# spatial join  between two GeoDataFrames\n",
    "join_cadastral_gdf = gpd.sjoin(cadastral_ref_gdf, census_ares_gdf_rep,how=\"left\", op=\"within\")\n",
    "join_cadastral_gdf.head()"
   ]
  },
  {
   "cell_type": "code",
   "execution_count": 25,
   "id": "457d7c18",
   "metadata": {},
   "outputs": [
    {
     "name": "stdout",
     "output_type": "stream",
     "text": [
      "<class 'geopandas.geodataframe.GeoDataFrame'>\n",
      "RangeIndex: 35991 entries, 0 to 35990\n",
      "Data columns (total 6 columns):\n",
      " #   Column             Non-Null Count  Dtype   \n",
      "---  ------             --------------  -----   \n",
      " 0   parcela_catastral  35991 non-null  object  \n",
      " 1   immb_us_prn        35991 non-null  object  \n",
      " 2   sup_total          35991 non-null  float64 \n",
      " 3   sup_viv_sbr        35991 non-null  float64 \n",
      " 4   demanda_cal_cte    23600 non-null  float64 \n",
      " 5   geometry           35991 non-null  geometry\n",
      "dtypes: float64(3), geometry(1), object(2)\n",
      "memory usage: 1.6+ MB\n"
     ]
    }
   ],
   "source": [
    "cadastral_ref_gdf.info()"
   ]
  },
  {
   "cell_type": "code",
   "execution_count": 26,
   "id": "7d46f516",
   "metadata": {},
   "outputs": [
    {
     "name": "stdout",
     "output_type": "stream",
     "text": [
      "<class 'geopandas.geodataframe.GeoDataFrame'>\n",
      "Int64Index: 35991 entries, 0 to 35990\n",
      "Data columns (total 8 columns):\n",
      " #   Column             Non-Null Count  Dtype   \n",
      "---  ------             --------------  -----   \n",
      " 0   parcela_catastral  35991 non-null  object  \n",
      " 1   immb_us_prn        35991 non-null  object  \n",
      " 2   sup_total          35991 non-null  float64 \n",
      " 3   sup_viv_sbr        35991 non-null  float64 \n",
      " 4   demanda_cal_cte    23600 non-null  float64 \n",
      " 5   geometry           35991 non-null  geometry\n",
      " 6   index_right        35139 non-null  float64 \n",
      " 7   id                 35139 non-null  object  \n",
      "dtypes: float64(4), geometry(1), object(3)\n",
      "memory usage: 2.5+ MB\n"
     ]
    }
   ],
   "source": [
    "join_cadastral_gdf.info()"
   ]
  },
  {
   "cell_type": "markdown",
   "id": "c8a3b017",
   "metadata": {},
   "source": [
    "**Now we have the join gdf with the same rows and we don't have any non null values from id or geometry.**"
   ]
  },
  {
   "cell_type": "code",
   "execution_count": 27,
   "id": "531333da",
   "metadata": {},
   "outputs": [
    {
     "data": {
      "text/html": [
       "<div>\n",
       "<style scoped>\n",
       "    .dataframe tbody tr th:only-of-type {\n",
       "        vertical-align: middle;\n",
       "    }\n",
       "\n",
       "    .dataframe tbody tr th {\n",
       "        vertical-align: top;\n",
       "    }\n",
       "\n",
       "    .dataframe thead th {\n",
       "        text-align: right;\n",
       "    }\n",
       "</style>\n",
       "<table border=\"1\" class=\"dataframe\">\n",
       "  <thead>\n",
       "    <tr style=\"text-align: right;\">\n",
       "      <th></th>\n",
       "      <th>parcela_catastral</th>\n",
       "      <th>immb_us_prn</th>\n",
       "      <th>sup_total</th>\n",
       "      <th>sup_viv_sbr</th>\n",
       "      <th>demanda_cal_cte</th>\n",
       "      <th>geometry</th>\n",
       "      <th>index_right</th>\n",
       "      <th>id</th>\n",
       "    </tr>\n",
       "  </thead>\n",
       "  <tbody>\n",
       "    <tr>\n",
       "      <th>0</th>\n",
       "      <td>63939911378595</td>\n",
       "      <td>Residencial</td>\n",
       "      <td>505.0</td>\n",
       "      <td>505.0</td>\n",
       "      <td>NaN</td>\n",
       "      <td>MULTIPOLYGON (((595568.124 4417209.480, 595563...</td>\n",
       "      <td>1.0</td>\n",
       "      <td>0700202001</td>\n",
       "    </tr>\n",
       "    <tr>\n",
       "      <th>1</th>\n",
       "      <td>93428957957876</td>\n",
       "      <td>AltresNoCal</td>\n",
       "      <td>265.0</td>\n",
       "      <td>0.0</td>\n",
       "      <td>NaN</td>\n",
       "      <td>MULTIPOLYGON (((595167.927 4419452.085, 595147...</td>\n",
       "      <td>37.0</td>\n",
       "      <td>0700201002</td>\n",
       "    </tr>\n",
       "    <tr>\n",
       "      <th>2</th>\n",
       "      <td>91748101647838</td>\n",
       "      <td>Emmagatzematge</td>\n",
       "      <td>9.0</td>\n",
       "      <td>0.0</td>\n",
       "      <td>NaN</td>\n",
       "      <td>MULTIPOLYGON (((595171.157 4419445.925, 595171...</td>\n",
       "      <td>37.0</td>\n",
       "      <td>0700201002</td>\n",
       "    </tr>\n",
       "    <tr>\n",
       "      <th>3</th>\n",
       "      <td>38225472390951</td>\n",
       "      <td>Emmagatzematge</td>\n",
       "      <td>22.0</td>\n",
       "      <td>0.0</td>\n",
       "      <td>NaN</td>\n",
       "      <td>MULTIPOLYGON (((595578.285 4416970.042, 595583...</td>\n",
       "      <td>1.0</td>\n",
       "      <td>0700202001</td>\n",
       "    </tr>\n",
       "    <tr>\n",
       "      <th>4</th>\n",
       "      <td>66150954127328</td>\n",
       "      <td>Emmagatzematge</td>\n",
       "      <td>9.0</td>\n",
       "      <td>0.0</td>\n",
       "      <td>NaN</td>\n",
       "      <td>MULTIPOLYGON (((594968.813 4422211.527, 594966...</td>\n",
       "      <td>37.0</td>\n",
       "      <td>0700201002</td>\n",
       "    </tr>\n",
       "  </tbody>\n",
       "</table>\n",
       "</div>"
      ],
      "text/plain": [
       "  parcela_catastral     immb_us_prn  sup_total  sup_viv_sbr  demanda_cal_cte  \\\n",
       "0    63939911378595     Residencial      505.0        505.0              NaN   \n",
       "1    93428957957876     AltresNoCal      265.0          0.0              NaN   \n",
       "2    91748101647838  Emmagatzematge        9.0          0.0              NaN   \n",
       "3    38225472390951  Emmagatzematge       22.0          0.0              NaN   \n",
       "4    66150954127328  Emmagatzematge        9.0          0.0              NaN   \n",
       "\n",
       "                                            geometry  index_right          id  \n",
       "0  MULTIPOLYGON (((595568.124 4417209.480, 595563...          1.0  0700202001  \n",
       "1  MULTIPOLYGON (((595167.927 4419452.085, 595147...         37.0  0700201002  \n",
       "2  MULTIPOLYGON (((595171.157 4419445.925, 595171...         37.0  0700201002  \n",
       "3  MULTIPOLYGON (((595578.285 4416970.042, 595583...          1.0  0700202001  \n",
       "4  MULTIPOLYGON (((594968.813 4422211.527, 594966...         37.0  0700201002  "
      ]
     },
     "execution_count": 27,
     "metadata": {},
     "output_type": "execute_result"
    }
   ],
   "source": [
    "join_cadastral_gdf.head()"
   ]
  },
  {
   "cell_type": "code",
   "execution_count": 28,
   "id": "215fd789",
   "metadata": {},
   "outputs": [
    {
     "name": "stderr",
     "output_type": "stream",
     "text": [
      "C:\\Users\\34639\\AppData\\Local\\Temp/ipykernel_17272/569404371.py:2: UserWarning: Column names longer than 10 characters will be truncated when saved to ESRI Shapefile.\n",
      "  join_cadastral_gdf.to_file(\"shp_res/cadastral_references_with_census_id.shp\")\n"
     ]
    }
   ],
   "source": [
    "# writing a shp\n",
    "join_cadastral_gdf.to_file(\"shp_res/cadastral_references_with_census_id.shp\")"
   ]
  },
  {
   "cell_type": "code",
   "execution_count": 29,
   "id": "081192e6",
   "metadata": {},
   "outputs": [],
   "source": [
    "# plotting maps\n",
    "import matplotlib.pyplot as plt\n",
    "from shapely.geometry import box"
   ]
  },
  {
   "cell_type": "markdown",
   "id": "1c341ce5",
   "metadata": {},
   "source": [
    "## 2. The weighted average of energy demand (‘demanda_cal_cte’), by residential surface ( ‘sup_viv_sbr’), for all census areas(id).\n",
    "\n",
    "[Numpy average](https://numpy.org/doc/stable/reference/generated/numpy.average.html)"
   ]
  },
  {
   "cell_type": "code",
   "execution_count": 30,
   "id": "2f8e4a2f",
   "metadata": {
    "scrolled": true
   },
   "outputs": [
    {
     "data": {
      "text/html": [
       "<div>\n",
       "<style scoped>\n",
       "    .dataframe tbody tr th:only-of-type {\n",
       "        vertical-align: middle;\n",
       "    }\n",
       "\n",
       "    .dataframe tbody tr th {\n",
       "        vertical-align: top;\n",
       "    }\n",
       "\n",
       "    .dataframe thead th {\n",
       "        text-align: right;\n",
       "    }\n",
       "</style>\n",
       "<table border=\"1\" class=\"dataframe\">\n",
       "  <thead>\n",
       "    <tr style=\"text-align: right;\">\n",
       "      <th></th>\n",
       "      <th>parcela_catastral</th>\n",
       "      <th>immb_us_prn</th>\n",
       "      <th>sup_total</th>\n",
       "      <th>sup_viv_sbr</th>\n",
       "      <th>demanda_cal_cte</th>\n",
       "      <th>geometry</th>\n",
       "      <th>index_right</th>\n",
       "      <th>id</th>\n",
       "    </tr>\n",
       "  </thead>\n",
       "  <tbody>\n",
       "    <tr>\n",
       "      <th>0</th>\n",
       "      <td>63939911378595</td>\n",
       "      <td>Residencial</td>\n",
       "      <td>505.0</td>\n",
       "      <td>505.0</td>\n",
       "      <td>NaN</td>\n",
       "      <td>MULTIPOLYGON (((595568.124 4417209.480, 595563...</td>\n",
       "      <td>1.0</td>\n",
       "      <td>0700202001</td>\n",
       "    </tr>\n",
       "    <tr>\n",
       "      <th>1</th>\n",
       "      <td>93428957957876</td>\n",
       "      <td>AltresNoCal</td>\n",
       "      <td>265.0</td>\n",
       "      <td>0.0</td>\n",
       "      <td>NaN</td>\n",
       "      <td>MULTIPOLYGON (((595167.927 4419452.085, 595147...</td>\n",
       "      <td>37.0</td>\n",
       "      <td>0700201002</td>\n",
       "    </tr>\n",
       "    <tr>\n",
       "      <th>2</th>\n",
       "      <td>91748101647838</td>\n",
       "      <td>Emmagatzematge</td>\n",
       "      <td>9.0</td>\n",
       "      <td>0.0</td>\n",
       "      <td>NaN</td>\n",
       "      <td>MULTIPOLYGON (((595171.157 4419445.925, 595171...</td>\n",
       "      <td>37.0</td>\n",
       "      <td>0700201002</td>\n",
       "    </tr>\n",
       "    <tr>\n",
       "      <th>3</th>\n",
       "      <td>38225472390951</td>\n",
       "      <td>Emmagatzematge</td>\n",
       "      <td>22.0</td>\n",
       "      <td>0.0</td>\n",
       "      <td>NaN</td>\n",
       "      <td>MULTIPOLYGON (((595578.285 4416970.042, 595583...</td>\n",
       "      <td>1.0</td>\n",
       "      <td>0700202001</td>\n",
       "    </tr>\n",
       "    <tr>\n",
       "      <th>4</th>\n",
       "      <td>66150954127328</td>\n",
       "      <td>Emmagatzematge</td>\n",
       "      <td>9.0</td>\n",
       "      <td>0.0</td>\n",
       "      <td>NaN</td>\n",
       "      <td>MULTIPOLYGON (((594968.813 4422211.527, 594966...</td>\n",
       "      <td>37.0</td>\n",
       "      <td>0700201002</td>\n",
       "    </tr>\n",
       "  </tbody>\n",
       "</table>\n",
       "</div>"
      ],
      "text/plain": [
       "  parcela_catastral     immb_us_prn  sup_total  sup_viv_sbr  demanda_cal_cte  \\\n",
       "0    63939911378595     Residencial      505.0        505.0              NaN   \n",
       "1    93428957957876     AltresNoCal      265.0          0.0              NaN   \n",
       "2    91748101647838  Emmagatzematge        9.0          0.0              NaN   \n",
       "3    38225472390951  Emmagatzematge       22.0          0.0              NaN   \n",
       "4    66150954127328  Emmagatzematge        9.0          0.0              NaN   \n",
       "\n",
       "                                            geometry  index_right          id  \n",
       "0  MULTIPOLYGON (((595568.124 4417209.480, 595563...          1.0  0700202001  \n",
       "1  MULTIPOLYGON (((595167.927 4419452.085, 595147...         37.0  0700201002  \n",
       "2  MULTIPOLYGON (((595171.157 4419445.925, 595171...         37.0  0700201002  \n",
       "3  MULTIPOLYGON (((595578.285 4416970.042, 595583...          1.0  0700202001  \n",
       "4  MULTIPOLYGON (((594968.813 4422211.527, 594966...         37.0  0700201002  "
      ]
     },
     "execution_count": 30,
     "metadata": {},
     "output_type": "execute_result"
    }
   ],
   "source": [
    "join_cadastral_gdf.head()"
   ]
  },
  {
   "cell_type": "code",
   "execution_count": 31,
   "id": "0993596d",
   "metadata": {
    "scrolled": true
   },
   "outputs": [
    {
     "name": "stdout",
     "output_type": "stream",
     "text": [
      "Null values from demanda_cal_cte: 12391\n"
     ]
    }
   ],
   "source": [
    "print('Null values from demanda_cal_cte:', join_cadastral_gdf[join_cadastral_gdf[\"demanda_cal_cte\"].isna()].shape[0])"
   ]
  },
  {
   "cell_type": "markdown",
   "id": "e0fac664",
   "metadata": {},
   "source": [
    "We will delete this rows from the gdf:"
   ]
  },
  {
   "cell_type": "code",
   "execution_count": 32,
   "id": "adae08a7",
   "metadata": {},
   "outputs": [
    {
     "data": {
      "text/plain": [
       "35991"
      ]
     },
     "execution_count": 32,
     "metadata": {},
     "output_type": "execute_result"
    }
   ],
   "source": [
    "join_cadastral_gdf_not_na_demanda = join_cadastral_gdf[join_cadastral_gdf['demanda_cal_cte'].notna()]\n",
    "join_cadastral_gdf.shape[0]"
   ]
  },
  {
   "cell_type": "code",
   "execution_count": 33,
   "id": "e3a8708b",
   "metadata": {
    "scrolled": true
   },
   "outputs": [
    {
     "name": "stdout",
     "output_type": "stream",
     "text": [
      "Null values from id: 852\n"
     ]
    }
   ],
   "source": [
    "print('Null values from id:', join_cadastral_gdf[join_cadastral_gdf[\"id\"].isna()].shape[0])"
   ]
  },
  {
   "cell_type": "code",
   "execution_count": 34,
   "id": "c777220f",
   "metadata": {},
   "outputs": [],
   "source": [
    "join_cadastral_gdf_not_na = join_cadastral_gdf_not_na_demanda[join_cadastral_gdf_not_na_demanda['id'].notna()]"
   ]
  },
  {
   "cell_type": "code",
   "execution_count": 35,
   "id": "877193a8",
   "metadata": {
    "scrolled": true
   },
   "outputs": [
    {
     "name": "stdout",
     "output_type": "stream",
     "text": [
      "Null values from id: 0 Rows gdf:  23318\n"
     ]
    }
   ],
   "source": [
    "print('Null values from id:', join_cadastral_gdf_not_na[join_cadastral_gdf_not_na[\"id\"].isna()].shape[0], 'Rows gdf: ', join_cadastral_gdf_not_na.shape[0])"
   ]
  },
  {
   "cell_type": "markdown",
   "id": "5f57684a",
   "metadata": {},
   "source": [
    "#### First we will calculate the average and next the weighted average."
   ]
  },
  {
   "cell_type": "code",
   "execution_count": 36,
   "id": "5f0270a0",
   "metadata": {
    "scrolled": false
   },
   "outputs": [
    {
     "data": {
      "text/html": [
       "<div>\n",
       "<style scoped>\n",
       "    .dataframe tbody tr th:only-of-type {\n",
       "        vertical-align: middle;\n",
       "    }\n",
       "\n",
       "    .dataframe tbody tr th {\n",
       "        vertical-align: top;\n",
       "    }\n",
       "\n",
       "    .dataframe thead th {\n",
       "        text-align: right;\n",
       "    }\n",
       "</style>\n",
       "<table border=\"1\" class=\"dataframe\">\n",
       "  <thead>\n",
       "    <tr style=\"text-align: right;\">\n",
       "      <th></th>\n",
       "      <th>sup_total</th>\n",
       "      <th>sup_viv_sbr</th>\n",
       "      <th>demanda_cal_cte</th>\n",
       "    </tr>\n",
       "    <tr>\n",
       "      <th>id</th>\n",
       "      <th></th>\n",
       "      <th></th>\n",
       "      <th></th>\n",
       "    </tr>\n",
       "  </thead>\n",
       "  <tbody>\n",
       "    <tr>\n",
       "      <th>0700201001</th>\n",
       "      <td>150161.0</td>\n",
       "      <td>88070.33651</td>\n",
       "      <td>2.952605e+06</td>\n",
       "    </tr>\n",
       "    <tr>\n",
       "      <th>0700201002</th>\n",
       "      <td>296971.0</td>\n",
       "      <td>187863.00000</td>\n",
       "      <td>5.137823e+06</td>\n",
       "    </tr>\n",
       "    <tr>\n",
       "      <th>0700202001</th>\n",
       "      <td>134686.0</td>\n",
       "      <td>79854.00000</td>\n",
       "      <td>2.393955e+06</td>\n",
       "    </tr>\n",
       "    <tr>\n",
       "      <th>0700202002</th>\n",
       "      <td>167108.0</td>\n",
       "      <td>95691.00000</td>\n",
       "      <td>3.892483e+06</td>\n",
       "    </tr>\n",
       "    <tr>\n",
       "      <th>0700202003</th>\n",
       "      <td>233599.0</td>\n",
       "      <td>143203.00000</td>\n",
       "      <td>7.024901e+06</td>\n",
       "    </tr>\n",
       "  </tbody>\n",
       "</table>\n",
       "</div>"
      ],
      "text/plain": [
       "            sup_total   sup_viv_sbr  demanda_cal_cte\n",
       "id                                                  \n",
       "0700201001   150161.0   88070.33651     2.952605e+06\n",
       "0700201002   296971.0  187863.00000     5.137823e+06\n",
       "0700202001   134686.0   79854.00000     2.393955e+06\n",
       "0700202002   167108.0   95691.00000     3.892483e+06\n",
       "0700202003   233599.0  143203.00000     7.024901e+06"
      ]
     },
     "execution_count": 36,
     "metadata": {},
     "output_type": "execute_result"
    }
   ],
   "source": [
    "# grouping by census id\n",
    "join_cadastral_by_id = join_cadastral_gdf_not_na.groupby([\"id\"]).sum()\n",
    "join_cadastral_by_id = join_cadastral_by_id.drop(['index_right'], axis=1) # axis 1 = col, drop col\n",
    "join_cadastral_by_id.head()"
   ]
  },
  {
   "cell_type": "code",
   "execution_count": 37,
   "id": "a21f5351",
   "metadata": {},
   "outputs": [],
   "source": [
    "# first we will calculate the caloric demand by surface as a new col\n",
    "join_cadastral_by_id[\"demand_cal_by_surf\"] = join_cadastral_by_id[\"demanda_cal_cte\"] / join_cadastral_by_id[\"sup_viv_sbr\"]"
   ]
  },
  {
   "cell_type": "code",
   "execution_count": 38,
   "id": "cb7d96d8",
   "metadata": {
    "scrolled": false
   },
   "outputs": [
    {
     "data": {
      "text/html": [
       "<div>\n",
       "<style scoped>\n",
       "    .dataframe tbody tr th:only-of-type {\n",
       "        vertical-align: middle;\n",
       "    }\n",
       "\n",
       "    .dataframe tbody tr th {\n",
       "        vertical-align: top;\n",
       "    }\n",
       "\n",
       "    .dataframe thead th {\n",
       "        text-align: right;\n",
       "    }\n",
       "</style>\n",
       "<table border=\"1\" class=\"dataframe\">\n",
       "  <thead>\n",
       "    <tr style=\"text-align: right;\">\n",
       "      <th></th>\n",
       "      <th>sup_total</th>\n",
       "      <th>sup_viv_sbr</th>\n",
       "      <th>demanda_cal_cte</th>\n",
       "      <th>demand_cal_by_surf</th>\n",
       "    </tr>\n",
       "    <tr>\n",
       "      <th>id</th>\n",
       "      <th></th>\n",
       "      <th></th>\n",
       "      <th></th>\n",
       "      <th></th>\n",
       "    </tr>\n",
       "  </thead>\n",
       "  <tbody>\n",
       "    <tr>\n",
       "      <th>0700201001</th>\n",
       "      <td>150161.0</td>\n",
       "      <td>88070.33651</td>\n",
       "      <td>2.952605e+06</td>\n",
       "      <td>33.525538</td>\n",
       "    </tr>\n",
       "    <tr>\n",
       "      <th>0700201002</th>\n",
       "      <td>296971.0</td>\n",
       "      <td>187863.00000</td>\n",
       "      <td>5.137823e+06</td>\n",
       "      <td>27.348775</td>\n",
       "    </tr>\n",
       "    <tr>\n",
       "      <th>0700202001</th>\n",
       "      <td>134686.0</td>\n",
       "      <td>79854.00000</td>\n",
       "      <td>2.393955e+06</td>\n",
       "      <td>29.979148</td>\n",
       "    </tr>\n",
       "    <tr>\n",
       "      <th>0700202002</th>\n",
       "      <td>167108.0</td>\n",
       "      <td>95691.00000</td>\n",
       "      <td>3.892483e+06</td>\n",
       "      <td>40.677626</td>\n",
       "    </tr>\n",
       "    <tr>\n",
       "      <th>0700202003</th>\n",
       "      <td>233599.0</td>\n",
       "      <td>143203.00000</td>\n",
       "      <td>7.024901e+06</td>\n",
       "      <td>49.055544</td>\n",
       "    </tr>\n",
       "  </tbody>\n",
       "</table>\n",
       "</div>"
      ],
      "text/plain": [
       "            sup_total   sup_viv_sbr  demanda_cal_cte  demand_cal_by_surf\n",
       "id                                                                      \n",
       "0700201001   150161.0   88070.33651     2.952605e+06           33.525538\n",
       "0700201002   296971.0  187863.00000     5.137823e+06           27.348775\n",
       "0700202001   134686.0   79854.00000     2.393955e+06           29.979148\n",
       "0700202002   167108.0   95691.00000     3.892483e+06           40.677626\n",
       "0700202003   233599.0  143203.00000     7.024901e+06           49.055544"
      ]
     },
     "execution_count": 38,
     "metadata": {},
     "output_type": "execute_result"
    }
   ],
   "source": [
    "join_cadastral_by_id.head() # now we have simple average by census"
   ]
  },
  {
   "cell_type": "code",
   "execution_count": 39,
   "id": "95404d20",
   "metadata": {},
   "outputs": [
    {
     "data": {
      "text/html": [
       "<div>\n",
       "<style scoped>\n",
       "    .dataframe tbody tr th:only-of-type {\n",
       "        vertical-align: middle;\n",
       "    }\n",
       "\n",
       "    .dataframe tbody tr th {\n",
       "        vertical-align: top;\n",
       "    }\n",
       "\n",
       "    .dataframe thead th {\n",
       "        text-align: right;\n",
       "    }\n",
       "</style>\n",
       "<table border=\"1\" class=\"dataframe\">\n",
       "  <thead>\n",
       "    <tr style=\"text-align: right;\">\n",
       "      <th></th>\n",
       "      <th>parcela_catastral</th>\n",
       "      <th>immb_us_prn</th>\n",
       "      <th>sup_total</th>\n",
       "      <th>sup_viv_sbr</th>\n",
       "      <th>demanda_cal_cte</th>\n",
       "      <th>geometry</th>\n",
       "      <th>index_right</th>\n",
       "      <th>id</th>\n",
       "    </tr>\n",
       "  </thead>\n",
       "  <tbody>\n",
       "    <tr>\n",
       "      <th>630</th>\n",
       "      <td>09354816997406</td>\n",
       "      <td>Emmagatzematge</td>\n",
       "      <td>153.0</td>\n",
       "      <td>66.0</td>\n",
       "      <td>10625.577393</td>\n",
       "      <td>MULTIPOLYGON (((598647.353 4420785.924, 598658...</td>\n",
       "      <td>13.0</td>\n",
       "      <td>0700202002</td>\n",
       "    </tr>\n",
       "    <tr>\n",
       "      <th>631</th>\n",
       "      <td>97280445168223</td>\n",
       "      <td>Residencial</td>\n",
       "      <td>96.0</td>\n",
       "      <td>67.0</td>\n",
       "      <td>13210.883503</td>\n",
       "      <td>MULTIPOLYGON (((598658.037 4420761.236, 598658...</td>\n",
       "      <td>13.0</td>\n",
       "      <td>0700202002</td>\n",
       "    </tr>\n",
       "    <tr>\n",
       "      <th>647</th>\n",
       "      <td>04951797057711</td>\n",
       "      <td>Residencial</td>\n",
       "      <td>35.0</td>\n",
       "      <td>20.0</td>\n",
       "      <td>860.320565</td>\n",
       "      <td>MULTIPOLYGON (((598733.344 4420526.184, 598731...</td>\n",
       "      <td>13.0</td>\n",
       "      <td>0700202002</td>\n",
       "    </tr>\n",
       "    <tr>\n",
       "      <th>649</th>\n",
       "      <td>72509208715984</td>\n",
       "      <td>Residencial</td>\n",
       "      <td>42.0</td>\n",
       "      <td>42.0</td>\n",
       "      <td>4364.657211</td>\n",
       "      <td>MULTIPOLYGON (((598818.556 4420501.117, 598816...</td>\n",
       "      <td>13.0</td>\n",
       "      <td>0700202002</td>\n",
       "    </tr>\n",
       "    <tr>\n",
       "      <th>1101</th>\n",
       "      <td>67546632942112</td>\n",
       "      <td>Residencial</td>\n",
       "      <td>47.0</td>\n",
       "      <td>34.0</td>\n",
       "      <td>11937.792683</td>\n",
       "      <td>MULTIPOLYGON (((598627.640 4420723.104, 598681...</td>\n",
       "      <td>13.0</td>\n",
       "      <td>0700202002</td>\n",
       "    </tr>\n",
       "  </tbody>\n",
       "</table>\n",
       "</div>"
      ],
      "text/plain": [
       "     parcela_catastral     immb_us_prn  sup_total  sup_viv_sbr  \\\n",
       "630     09354816997406  Emmagatzematge      153.0         66.0   \n",
       "631     97280445168223     Residencial       96.0         67.0   \n",
       "647     04951797057711     Residencial       35.0         20.0   \n",
       "649     72509208715984     Residencial       42.0         42.0   \n",
       "1101    67546632942112     Residencial       47.0         34.0   \n",
       "\n",
       "      demanda_cal_cte                                           geometry  \\\n",
       "630      10625.577393  MULTIPOLYGON (((598647.353 4420785.924, 598658...   \n",
       "631      13210.883503  MULTIPOLYGON (((598658.037 4420761.236, 598658...   \n",
       "647        860.320565  MULTIPOLYGON (((598733.344 4420526.184, 598731...   \n",
       "649       4364.657211  MULTIPOLYGON (((598818.556 4420501.117, 598816...   \n",
       "1101     11937.792683  MULTIPOLYGON (((598627.640 4420723.104, 598681...   \n",
       "\n",
       "      index_right          id  \n",
       "630          13.0  0700202002  \n",
       "631          13.0  0700202002  \n",
       "647          13.0  0700202002  \n",
       "649          13.0  0700202002  \n",
       "1101         13.0  0700202002  "
      ]
     },
     "execution_count": 39,
     "metadata": {},
     "output_type": "execute_result"
    }
   ],
   "source": [
    "join_cadastral_gdf_not_na.head()"
   ]
  },
  {
   "cell_type": "code",
   "execution_count": 40,
   "id": "0cb8f8e4",
   "metadata": {
    "scrolled": true
   },
   "outputs": [
    {
     "name": "stdout",
     "output_type": "stream",
     "text": [
      "<class 'geopandas.geodataframe.GeoDataFrame'>\n",
      "Int64Index: 23318 entries, 630 to 35989\n",
      "Data columns (total 8 columns):\n",
      " #   Column             Non-Null Count  Dtype   \n",
      "---  ------             --------------  -----   \n",
      " 0   parcela_catastral  23318 non-null  object  \n",
      " 1   immb_us_prn        23318 non-null  object  \n",
      " 2   sup_total          23318 non-null  float64 \n",
      " 3   sup_viv_sbr        23318 non-null  float64 \n",
      " 4   demanda_cal_cte    23318 non-null  float64 \n",
      " 5   geometry           23318 non-null  geometry\n",
      " 6   index_right        23318 non-null  float64 \n",
      " 7   id                 23318 non-null  object  \n",
      "dtypes: float64(4), geometry(1), object(3)\n",
      "memory usage: 1.6+ MB\n"
     ]
    }
   ],
   "source": [
    "join_cadastral_gdf_not_na.info()"
   ]
  },
  {
   "cell_type": "code",
   "execution_count": 41,
   "id": "b0f41cc5",
   "metadata": {
    "scrolled": true
   },
   "outputs": [
    {
     "name": "stderr",
     "output_type": "stream",
     "text": [
      "C:\\Users\\34639\\anaconda3\\envs\\geo_env\\lib\\site-packages\\geopandas\\geodataframe.py:1322: SettingWithCopyWarning: \n",
      "A value is trying to be set on a copy of a slice from a DataFrame.\n",
      "Try using .loc[row_indexer,col_indexer] = value instead\n",
      "\n",
      "See the caveats in the documentation: https://pandas.pydata.org/pandas-docs/stable/user_guide/indexing.html#returning-a-view-versus-a-copy\n",
      "  super(GeoDataFrame, self).__setitem__(key, value)\n"
     ]
    }
   ],
   "source": [
    "join_cadastral_gdf_not_na[\"demand_cal_by_surf_wa\"] = join_cadastral_gdf_not_na[\"demanda_cal_cte\"] / join_cadastral_gdf_not_na[\"sup_viv_sbr\"] \n",
    "# creating the new col weighted avg"
   ]
  },
  {
   "cell_type": "code",
   "execution_count": 42,
   "id": "cf36dd7f",
   "metadata": {},
   "outputs": [
    {
     "name": "stdout",
     "output_type": "stream",
     "text": [
      "<class 'geopandas.geodataframe.GeoDataFrame'>\n",
      "Int64Index: 23318 entries, 630 to 35989\n",
      "Data columns (total 9 columns):\n",
      " #   Column                 Non-Null Count  Dtype   \n",
      "---  ------                 --------------  -----   \n",
      " 0   parcela_catastral      23318 non-null  object  \n",
      " 1   immb_us_prn            23318 non-null  object  \n",
      " 2   sup_total              23318 non-null  float64 \n",
      " 3   sup_viv_sbr            23318 non-null  float64 \n",
      " 4   demanda_cal_cte        23318 non-null  float64 \n",
      " 5   geometry               23318 non-null  geometry\n",
      " 6   index_right            23318 non-null  float64 \n",
      " 7   id                     23318 non-null  object  \n",
      " 8   demand_cal_by_surf_wa  23318 non-null  float64 \n",
      "dtypes: float64(5), geometry(1), object(3)\n",
      "memory usage: 1.8+ MB\n"
     ]
    }
   ],
   "source": [
    "join_cadastral_gdf_not_na.info()"
   ]
  },
  {
   "cell_type": "markdown",
   "id": "1dc8c75f",
   "metadata": {},
   "source": [
    "Why at the end of this exercise first I have some inf values in weighted average column sum when I obtain the result of this execise. **We will going to check some things.**"
   ]
  },
  {
   "cell_type": "code",
   "execution_count": 43,
   "id": "a07c103e",
   "metadata": {
    "scrolled": true
   },
   "outputs": [
    {
     "data": {
      "text/html": [
       "<div>\n",
       "<style scoped>\n",
       "    .dataframe tbody tr th:only-of-type {\n",
       "        vertical-align: middle;\n",
       "    }\n",
       "\n",
       "    .dataframe tbody tr th {\n",
       "        vertical-align: top;\n",
       "    }\n",
       "\n",
       "    .dataframe thead th {\n",
       "        text-align: right;\n",
       "    }\n",
       "</style>\n",
       "<table border=\"1\" class=\"dataframe\">\n",
       "  <thead>\n",
       "    <tr style=\"text-align: right;\">\n",
       "      <th></th>\n",
       "      <th>parcela_catastral</th>\n",
       "      <th>immb_us_prn</th>\n",
       "      <th>sup_total</th>\n",
       "      <th>sup_viv_sbr</th>\n",
       "      <th>demanda_cal_cte</th>\n",
       "      <th>geometry</th>\n",
       "      <th>index_right</th>\n",
       "      <th>id</th>\n",
       "      <th>demand_cal_by_surf_wa</th>\n",
       "    </tr>\n",
       "  </thead>\n",
       "  <tbody>\n",
       "    <tr>\n",
       "      <th>18947</th>\n",
       "      <td>78041812125715</td>\n",
       "      <td>Residencial</td>\n",
       "      <td>391.0</td>\n",
       "      <td>189.0</td>\n",
       "      <td>4277.090375</td>\n",
       "      <td>MULTIPOLYGON (((600456.436 4431035.440, 600454...</td>\n",
       "      <td>47.0</td>\n",
       "      <td>0703701003</td>\n",
       "      <td>22.630108</td>\n",
       "    </tr>\n",
       "    <tr>\n",
       "      <th>18948</th>\n",
       "      <td>42808757259790</td>\n",
       "      <td>Residencial</td>\n",
       "      <td>1198.0</td>\n",
       "      <td>1127.0</td>\n",
       "      <td>268.198504</td>\n",
       "      <td>MULTIPOLYGON (((600402.694 4431035.555, 600404...</td>\n",
       "      <td>47.0</td>\n",
       "      <td>0703701003</td>\n",
       "      <td>0.237976</td>\n",
       "    </tr>\n",
       "    <tr>\n",
       "      <th>18949</th>\n",
       "      <td>82804963501534</td>\n",
       "      <td>Residencial</td>\n",
       "      <td>136.0</td>\n",
       "      <td>83.0</td>\n",
       "      <td>2012.825655</td>\n",
       "      <td>MULTIPOLYGON (((600430.569 4430967.906, 600429...</td>\n",
       "      <td>47.0</td>\n",
       "      <td>0703701003</td>\n",
       "      <td>24.250912</td>\n",
       "    </tr>\n",
       "    <tr>\n",
       "      <th>18950</th>\n",
       "      <td>35092416558852</td>\n",
       "      <td>Residencial</td>\n",
       "      <td>3093.0</td>\n",
       "      <td>2664.0</td>\n",
       "      <td>273.995865</td>\n",
       "      <td>MULTIPOLYGON (((600438.967 4430794.494, 600438...</td>\n",
       "      <td>47.0</td>\n",
       "      <td>0703701003</td>\n",
       "      <td>0.102851</td>\n",
       "    </tr>\n",
       "    <tr>\n",
       "      <th>18951</th>\n",
       "      <td>42230771658228</td>\n",
       "      <td>Comercial</td>\n",
       "      <td>839.0</td>\n",
       "      <td>267.0</td>\n",
       "      <td>8928.156931</td>\n",
       "      <td>MULTIPOLYGON (((600456.075 4430759.615, 600466...</td>\n",
       "      <td>47.0</td>\n",
       "      <td>0703701003</td>\n",
       "      <td>33.438790</td>\n",
       "    </tr>\n",
       "    <tr>\n",
       "      <th>...</th>\n",
       "      <td>...</td>\n",
       "      <td>...</td>\n",
       "      <td>...</td>\n",
       "      <td>...</td>\n",
       "      <td>...</td>\n",
       "      <td>...</td>\n",
       "      <td>...</td>\n",
       "      <td>...</td>\n",
       "      <td>...</td>\n",
       "    </tr>\n",
       "    <tr>\n",
       "      <th>21398</th>\n",
       "      <td>46848461079173</td>\n",
       "      <td>Residencial</td>\n",
       "      <td>199.0</td>\n",
       "      <td>109.0</td>\n",
       "      <td>3905.480579</td>\n",
       "      <td>MULTIPOLYGON (((599827.993 4430248.005, 599863...</td>\n",
       "      <td>47.0</td>\n",
       "      <td>0703701003</td>\n",
       "      <td>35.830097</td>\n",
       "    </tr>\n",
       "    <tr>\n",
       "      <th>21399</th>\n",
       "      <td>21821670879674</td>\n",
       "      <td>Residencial</td>\n",
       "      <td>242.0</td>\n",
       "      <td>137.0</td>\n",
       "      <td>11550.880412</td>\n",
       "      <td>MULTIPOLYGON (((599827.963 4430250.305, 599827...</td>\n",
       "      <td>47.0</td>\n",
       "      <td>0703701003</td>\n",
       "      <td>84.312996</td>\n",
       "    </tr>\n",
       "    <tr>\n",
       "      <th>21400</th>\n",
       "      <td>39668805432277</td>\n",
       "      <td>Residencial</td>\n",
       "      <td>227.0</td>\n",
       "      <td>123.0</td>\n",
       "      <td>11143.220756</td>\n",
       "      <td>MULTIPOLYGON (((599827.802 4430288.084, 599862...</td>\n",
       "      <td>47.0</td>\n",
       "      <td>0703701003</td>\n",
       "      <td>90.595291</td>\n",
       "    </tr>\n",
       "    <tr>\n",
       "      <th>21401</th>\n",
       "      <td>80312410274464</td>\n",
       "      <td>Residencial</td>\n",
       "      <td>256.0</td>\n",
       "      <td>180.0</td>\n",
       "      <td>1986.837940</td>\n",
       "      <td>MULTIPOLYGON (((599827.676 4430327.575, 599827...</td>\n",
       "      <td>47.0</td>\n",
       "      <td>0703701003</td>\n",
       "      <td>11.037989</td>\n",
       "    </tr>\n",
       "    <tr>\n",
       "      <th>21402</th>\n",
       "      <td>08537058910110</td>\n",
       "      <td>Residencial</td>\n",
       "      <td>230.0</td>\n",
       "      <td>145.0</td>\n",
       "      <td>7778.064837</td>\n",
       "      <td>MULTIPOLYGON (((599827.442 4430375.713, 599827...</td>\n",
       "      <td>47.0</td>\n",
       "      <td>0703701003</td>\n",
       "      <td>53.641826</td>\n",
       "    </tr>\n",
       "  </tbody>\n",
       "</table>\n",
       "<p>1284 rows × 9 columns</p>\n",
       "</div>"
      ],
      "text/plain": [
       "      parcela_catastral  immb_us_prn  sup_total  sup_viv_sbr  demanda_cal_cte  \\\n",
       "18947    78041812125715  Residencial      391.0        189.0      4277.090375   \n",
       "18948    42808757259790  Residencial     1198.0       1127.0       268.198504   \n",
       "18949    82804963501534  Residencial      136.0         83.0      2012.825655   \n",
       "18950    35092416558852  Residencial     3093.0       2664.0       273.995865   \n",
       "18951    42230771658228    Comercial      839.0        267.0      8928.156931   \n",
       "...                 ...          ...        ...          ...              ...   \n",
       "21398    46848461079173  Residencial      199.0        109.0      3905.480579   \n",
       "21399    21821670879674  Residencial      242.0        137.0     11550.880412   \n",
       "21400    39668805432277  Residencial      227.0        123.0     11143.220756   \n",
       "21401    80312410274464  Residencial      256.0        180.0      1986.837940   \n",
       "21402    08537058910110  Residencial      230.0        145.0      7778.064837   \n",
       "\n",
       "                                                geometry  index_right  \\\n",
       "18947  MULTIPOLYGON (((600456.436 4431035.440, 600454...         47.0   \n",
       "18948  MULTIPOLYGON (((600402.694 4431035.555, 600404...         47.0   \n",
       "18949  MULTIPOLYGON (((600430.569 4430967.906, 600429...         47.0   \n",
       "18950  MULTIPOLYGON (((600438.967 4430794.494, 600438...         47.0   \n",
       "18951  MULTIPOLYGON (((600456.075 4430759.615, 600466...         47.0   \n",
       "...                                                  ...          ...   \n",
       "21398  MULTIPOLYGON (((599827.993 4430248.005, 599863...         47.0   \n",
       "21399  MULTIPOLYGON (((599827.963 4430250.305, 599827...         47.0   \n",
       "21400  MULTIPOLYGON (((599827.802 4430288.084, 599862...         47.0   \n",
       "21401  MULTIPOLYGON (((599827.676 4430327.575, 599827...         47.0   \n",
       "21402  MULTIPOLYGON (((599827.442 4430375.713, 599827...         47.0   \n",
       "\n",
       "               id  demand_cal_by_surf_wa  \n",
       "18947  0703701003              22.630108  \n",
       "18948  0703701003               0.237976  \n",
       "18949  0703701003              24.250912  \n",
       "18950  0703701003               0.102851  \n",
       "18951  0703701003              33.438790  \n",
       "...           ...                    ...  \n",
       "21398  0703701003              35.830097  \n",
       "21399  0703701003              84.312996  \n",
       "21400  0703701003              90.595291  \n",
       "21401  0703701003              11.037989  \n",
       "21402  0703701003              53.641826  \n",
       "\n",
       "[1284 rows x 9 columns]"
      ]
     },
     "execution_count": 43,
     "metadata": {},
     "output_type": "execute_result"
    }
   ],
   "source": [
    "prova = join_cadastral_gdf_not_na[join_cadastral_gdf_not_na.id == \"0703701003\"] # query bi id, this id is a nan value in weighted average sum\n",
    "prova"
   ]
  },
  {
   "cell_type": "code",
   "execution_count": 44,
   "id": "ba24623c",
   "metadata": {},
   "outputs": [],
   "source": [
    "prova_df = pd.DataFrame(prova)"
   ]
  },
  {
   "cell_type": "code",
   "execution_count": 45,
   "id": "3b7dd879",
   "metadata": {},
   "outputs": [
    {
     "data": {
      "text/html": [
       "<div>\n",
       "<style scoped>\n",
       "    .dataframe tbody tr th:only-of-type {\n",
       "        vertical-align: middle;\n",
       "    }\n",
       "\n",
       "    .dataframe tbody tr th {\n",
       "        vertical-align: top;\n",
       "    }\n",
       "\n",
       "    .dataframe thead th {\n",
       "        text-align: right;\n",
       "    }\n",
       "</style>\n",
       "<table border=\"1\" class=\"dataframe\">\n",
       "  <thead>\n",
       "    <tr style=\"text-align: right;\">\n",
       "      <th></th>\n",
       "      <th>sup_total</th>\n",
       "      <th>sup_viv_sbr</th>\n",
       "      <th>demanda_cal_cte</th>\n",
       "      <th>index_right</th>\n",
       "      <th>demand_cal_by_surf_wa</th>\n",
       "    </tr>\n",
       "  </thead>\n",
       "  <tbody>\n",
       "    <tr>\n",
       "      <th>count</th>\n",
       "      <td>1284.000000</td>\n",
       "      <td>1284.000000</td>\n",
       "      <td>1284.000000</td>\n",
       "      <td>1284.0</td>\n",
       "      <td>1284.000000</td>\n",
       "    </tr>\n",
       "    <tr>\n",
       "      <th>mean</th>\n",
       "      <td>460.327103</td>\n",
       "      <td>317.282355</td>\n",
       "      <td>6823.805350</td>\n",
       "      <td>47.0</td>\n",
       "      <td>inf</td>\n",
       "    </tr>\n",
       "    <tr>\n",
       "      <th>std</th>\n",
       "      <td>971.056343</td>\n",
       "      <td>663.929448</td>\n",
       "      <td>3852.050082</td>\n",
       "      <td>0.0</td>\n",
       "      <td>NaN</td>\n",
       "    </tr>\n",
       "    <tr>\n",
       "      <th>min</th>\n",
       "      <td>21.000000</td>\n",
       "      <td>0.000000</td>\n",
       "      <td>105.183408</td>\n",
       "      <td>47.0</td>\n",
       "      <td>0.056492</td>\n",
       "    </tr>\n",
       "    <tr>\n",
       "      <th>25%</th>\n",
       "      <td>169.000000</td>\n",
       "      <td>109.000000</td>\n",
       "      <td>3463.724613</td>\n",
       "      <td>47.0</td>\n",
       "      <td>15.916506</td>\n",
       "    </tr>\n",
       "    <tr>\n",
       "      <th>50%</th>\n",
       "      <td>230.500000</td>\n",
       "      <td>151.000000</td>\n",
       "      <td>6804.075930</td>\n",
       "      <td>47.0</td>\n",
       "      <td>38.519836</td>\n",
       "    </tr>\n",
       "    <tr>\n",
       "      <th>75%</th>\n",
       "      <td>348.000000</td>\n",
       "      <td>221.000000</td>\n",
       "      <td>9981.701281</td>\n",
       "      <td>47.0</td>\n",
       "      <td>67.748704</td>\n",
       "    </tr>\n",
       "    <tr>\n",
       "      <th>max</th>\n",
       "      <td>16797.000000</td>\n",
       "      <td>6810.000000</td>\n",
       "      <td>13499.576744</td>\n",
       "      <td>47.0</td>\n",
       "      <td>inf</td>\n",
       "    </tr>\n",
       "  </tbody>\n",
       "</table>\n",
       "</div>"
      ],
      "text/plain": [
       "          sup_total  sup_viv_sbr  demanda_cal_cte  index_right  \\\n",
       "count   1284.000000  1284.000000      1284.000000       1284.0   \n",
       "mean     460.327103   317.282355      6823.805350         47.0   \n",
       "std      971.056343   663.929448      3852.050082          0.0   \n",
       "min       21.000000     0.000000       105.183408         47.0   \n",
       "25%      169.000000   109.000000      3463.724613         47.0   \n",
       "50%      230.500000   151.000000      6804.075930         47.0   \n",
       "75%      348.000000   221.000000      9981.701281         47.0   \n",
       "max    16797.000000  6810.000000     13499.576744         47.0   \n",
       "\n",
       "       demand_cal_by_surf_wa  \n",
       "count            1284.000000  \n",
       "mean                     inf  \n",
       "std                      NaN  \n",
       "min                 0.056492  \n",
       "25%                15.916506  \n",
       "50%                38.519836  \n",
       "75%                67.748704  \n",
       "max                      inf  "
      ]
     },
     "execution_count": 45,
     "metadata": {},
     "output_type": "execute_result"
    }
   ],
   "source": [
    "prova_df.describe() # inf values!!! "
   ]
  },
  {
   "cell_type": "code",
   "execution_count": 46,
   "id": "d83298d7",
   "metadata": {},
   "outputs": [],
   "source": [
    "# select the finit values\n",
    "prova_df_r = prova_df[prova_df['demand_cal_by_surf_wa'] < 100000000]"
   ]
  },
  {
   "cell_type": "code",
   "execution_count": 47,
   "id": "fbf92ea9",
   "metadata": {},
   "outputs": [
    {
     "data": {
      "text/html": [
       "<div>\n",
       "<style scoped>\n",
       "    .dataframe tbody tr th:only-of-type {\n",
       "        vertical-align: middle;\n",
       "    }\n",
       "\n",
       "    .dataframe tbody tr th {\n",
       "        vertical-align: top;\n",
       "    }\n",
       "\n",
       "    .dataframe thead th {\n",
       "        text-align: right;\n",
       "    }\n",
       "</style>\n",
       "<table border=\"1\" class=\"dataframe\">\n",
       "  <thead>\n",
       "    <tr style=\"text-align: right;\">\n",
       "      <th></th>\n",
       "      <th>sup_total</th>\n",
       "      <th>sup_viv_sbr</th>\n",
       "      <th>demanda_cal_cte</th>\n",
       "      <th>index_right</th>\n",
       "      <th>demand_cal_by_surf_wa</th>\n",
       "    </tr>\n",
       "  </thead>\n",
       "  <tbody>\n",
       "    <tr>\n",
       "      <th>count</th>\n",
       "      <td>1281.000000</td>\n",
       "      <td>1281.000000</td>\n",
       "      <td>1281.000000</td>\n",
       "      <td>1281.0</td>\n",
       "      <td>1281.000000</td>\n",
       "    </tr>\n",
       "    <tr>\n",
       "      <th>mean</th>\n",
       "      <td>460.811085</td>\n",
       "      <td>318.025405</td>\n",
       "      <td>6811.051613</td>\n",
       "      <td>47.0</td>\n",
       "      <td>48.592172</td>\n",
       "    </tr>\n",
       "    <tr>\n",
       "      <th>std</th>\n",
       "      <td>972.139201</td>\n",
       "      <td>664.529119</td>\n",
       "      <td>3847.086655</td>\n",
       "      <td>0.0</td>\n",
       "      <td>44.440665</td>\n",
       "    </tr>\n",
       "    <tr>\n",
       "      <th>min</th>\n",
       "      <td>21.000000</td>\n",
       "      <td>21.000000</td>\n",
       "      <td>105.183408</td>\n",
       "      <td>47.0</td>\n",
       "      <td>0.056492</td>\n",
       "    </tr>\n",
       "    <tr>\n",
       "      <th>25%</th>\n",
       "      <td>169.000000</td>\n",
       "      <td>110.000000</td>\n",
       "      <td>3461.989519</td>\n",
       "      <td>47.0</td>\n",
       "      <td>15.884080</td>\n",
       "    </tr>\n",
       "    <tr>\n",
       "      <th>50%</th>\n",
       "      <td>231.000000</td>\n",
       "      <td>151.000000</td>\n",
       "      <td>6793.766412</td>\n",
       "      <td>47.0</td>\n",
       "      <td>38.447331</td>\n",
       "    </tr>\n",
       "    <tr>\n",
       "      <th>75%</th>\n",
       "      <td>348.000000</td>\n",
       "      <td>221.000000</td>\n",
       "      <td>9944.839556</td>\n",
       "      <td>47.0</td>\n",
       "      <td>67.687602</td>\n",
       "    </tr>\n",
       "    <tr>\n",
       "      <th>max</th>\n",
       "      <td>16797.000000</td>\n",
       "      <td>6810.000000</td>\n",
       "      <td>13499.576744</td>\n",
       "      <td>47.0</td>\n",
       "      <td>465.420345</td>\n",
       "    </tr>\n",
       "  </tbody>\n",
       "</table>\n",
       "</div>"
      ],
      "text/plain": [
       "          sup_total  sup_viv_sbr  demanda_cal_cte  index_right  \\\n",
       "count   1281.000000  1281.000000      1281.000000       1281.0   \n",
       "mean     460.811085   318.025405      6811.051613         47.0   \n",
       "std      972.139201   664.529119      3847.086655          0.0   \n",
       "min       21.000000    21.000000       105.183408         47.0   \n",
       "25%      169.000000   110.000000      3461.989519         47.0   \n",
       "50%      231.000000   151.000000      6793.766412         47.0   \n",
       "75%      348.000000   221.000000      9944.839556         47.0   \n",
       "max    16797.000000  6810.000000     13499.576744         47.0   \n",
       "\n",
       "       demand_cal_by_surf_wa  \n",
       "count            1281.000000  \n",
       "mean               48.592172  \n",
       "std                44.440665  \n",
       "min                 0.056492  \n",
       "25%                15.884080  \n",
       "50%                38.447331  \n",
       "75%                67.687602  \n",
       "max               465.420345  "
      ]
     },
     "execution_count": 47,
     "metadata": {},
     "output_type": "execute_result"
    }
   ],
   "source": [
    "prova_df_r.describe() "
   ]
  },
  {
   "cell_type": "code",
   "execution_count": 48,
   "id": "65d837e9",
   "metadata": {},
   "outputs": [
    {
     "data": {
      "text/plain": [
       "1281"
      ]
     },
     "execution_count": 48,
     "metadata": {},
     "output_type": "execute_result"
    }
   ],
   "source": [
    "prova_df_r.shape[0] # We have lost the 3 inf values"
   ]
  },
  {
   "cell_type": "markdown",
   "id": "e1dab3bb",
   "metadata": {},
   "source": [
    "### Applyng a filter for selecting finite values in the gdf\n"
   ]
  },
  {
   "cell_type": "code",
   "execution_count": 49,
   "id": "74f78984",
   "metadata": {},
   "outputs": [
    {
     "data": {
      "text/plain": [
       "23318"
      ]
     },
     "execution_count": 49,
     "metadata": {},
     "output_type": "execute_result"
    }
   ],
   "source": [
    "join_cadastral_gdf_not_na.shape[0]"
   ]
  },
  {
   "cell_type": "code",
   "execution_count": 50,
   "id": "636b8997",
   "metadata": {},
   "outputs": [
    {
     "data": {
      "text/html": [
       "<div>\n",
       "<style scoped>\n",
       "    .dataframe tbody tr th:only-of-type {\n",
       "        vertical-align: middle;\n",
       "    }\n",
       "\n",
       "    .dataframe tbody tr th {\n",
       "        vertical-align: top;\n",
       "    }\n",
       "\n",
       "    .dataframe thead th {\n",
       "        text-align: right;\n",
       "    }\n",
       "</style>\n",
       "<table border=\"1\" class=\"dataframe\">\n",
       "  <thead>\n",
       "    <tr style=\"text-align: right;\">\n",
       "      <th></th>\n",
       "      <th>sup_total</th>\n",
       "      <th>sup_viv_sbr</th>\n",
       "      <th>demanda_cal_cte</th>\n",
       "      <th>index_right</th>\n",
       "      <th>demand_cal_by_surf_wa</th>\n",
       "    </tr>\n",
       "  </thead>\n",
       "  <tbody>\n",
       "    <tr>\n",
       "      <th>count</th>\n",
       "      <td>23304.000000</td>\n",
       "      <td>23304.000000</td>\n",
       "      <td>23304.000000</td>\n",
       "      <td>23304.000000</td>\n",
       "      <td>23304.000000</td>\n",
       "    </tr>\n",
       "    <tr>\n",
       "      <th>mean</th>\n",
       "      <td>370.477987</td>\n",
       "      <td>237.320180</td>\n",
       "      <td>6825.351596</td>\n",
       "      <td>26.881780</td>\n",
       "      <td>53.849174</td>\n",
       "    </tr>\n",
       "    <tr>\n",
       "      <th>std</th>\n",
       "      <td>743.930448</td>\n",
       "      <td>434.533576</td>\n",
       "      <td>3876.656849</td>\n",
       "      <td>15.202835</td>\n",
       "      <td>80.400242</td>\n",
       "    </tr>\n",
       "    <tr>\n",
       "      <th>min</th>\n",
       "      <td>10.000000</td>\n",
       "      <td>1.000000</td>\n",
       "      <td>100.319108</td>\n",
       "      <td>0.000000</td>\n",
       "      <td>0.056492</td>\n",
       "    </tr>\n",
       "    <tr>\n",
       "      <th>25%</th>\n",
       "      <td>154.000000</td>\n",
       "      <td>105.000000</td>\n",
       "      <td>3458.095097</td>\n",
       "      <td>13.000000</td>\n",
       "      <td>17.460398</td>\n",
       "    </tr>\n",
       "    <tr>\n",
       "      <th>50%</th>\n",
       "      <td>228.000000</td>\n",
       "      <td>152.000000</td>\n",
       "      <td>6845.450482</td>\n",
       "      <td>31.000000</td>\n",
       "      <td>39.234411</td>\n",
       "    </tr>\n",
       "    <tr>\n",
       "      <th>75%</th>\n",
       "      <td>345.250000</td>\n",
       "      <td>225.000000</td>\n",
       "      <td>10177.991737</td>\n",
       "      <td>40.000000</td>\n",
       "      <td>71.405364</td>\n",
       "    </tr>\n",
       "    <tr>\n",
       "      <th>max</th>\n",
       "      <td>28729.000000</td>\n",
       "      <td>13389.000000</td>\n",
       "      <td>13499.576744</td>\n",
       "      <td>51.000000</td>\n",
       "      <td>4256.376605</td>\n",
       "    </tr>\n",
       "  </tbody>\n",
       "</table>\n",
       "</div>"
      ],
      "text/plain": [
       "          sup_total   sup_viv_sbr  demanda_cal_cte   index_right  \\\n",
       "count  23304.000000  23304.000000     23304.000000  23304.000000   \n",
       "mean     370.477987    237.320180      6825.351596     26.881780   \n",
       "std      743.930448    434.533576      3876.656849     15.202835   \n",
       "min       10.000000      1.000000       100.319108      0.000000   \n",
       "25%      154.000000    105.000000      3458.095097     13.000000   \n",
       "50%      228.000000    152.000000      6845.450482     31.000000   \n",
       "75%      345.250000    225.000000     10177.991737     40.000000   \n",
       "max    28729.000000  13389.000000     13499.576744     51.000000   \n",
       "\n",
       "       demand_cal_by_surf_wa  \n",
       "count           23304.000000  \n",
       "mean               53.849174  \n",
       "std                80.400242  \n",
       "min                 0.056492  \n",
       "25%                17.460398  \n",
       "50%                39.234411  \n",
       "75%                71.405364  \n",
       "max              4256.376605  "
      ]
     },
     "execution_count": 50,
     "metadata": {},
     "output_type": "execute_result"
    }
   ],
   "source": [
    "join_cadastral_gdf_not_na_not_inf= join_cadastral_gdf_not_na[join_cadastral_gdf_not_na['demand_cal_by_surf_wa'] < 99999999] # selecting the finite values\n",
    "join_cadastral_gdf_not_na_not_inf.describe() # Now we don't have the infinite values."
   ]
  },
  {
   "cell_type": "code",
   "execution_count": 51,
   "id": "77856011",
   "metadata": {},
   "outputs": [
    {
     "data": {
      "text/plain": [
       "35991"
      ]
     },
     "execution_count": 51,
     "metadata": {},
     "output_type": "execute_result"
    }
   ],
   "source": [
    "join_cadastral_gdf.shape[0] "
   ]
  },
  {
   "cell_type": "markdown",
   "id": "35c71c35",
   "metadata": {},
   "source": [
    "We have droped the rows with inf values in the demand_cal_by_surf_wa field."
   ]
  },
  {
   "cell_type": "code",
   "execution_count": 52,
   "id": "77ee22d6",
   "metadata": {},
   "outputs": [],
   "source": [
    "join_cadastral_wa = join_cadastral_gdf_not_na_not_inf.groupby([\"id\"]).mean() # grop by id and mean of weighted average."
   ]
  },
  {
   "cell_type": "code",
   "execution_count": 53,
   "id": "2349c541",
   "metadata": {},
   "outputs": [
    {
     "data": {
      "text/html": [
       "<div>\n",
       "<style scoped>\n",
       "    .dataframe tbody tr th:only-of-type {\n",
       "        vertical-align: middle;\n",
       "    }\n",
       "\n",
       "    .dataframe tbody tr th {\n",
       "        vertical-align: top;\n",
       "    }\n",
       "\n",
       "    .dataframe thead th {\n",
       "        text-align: right;\n",
       "    }\n",
       "</style>\n",
       "<table border=\"1\" class=\"dataframe\">\n",
       "  <thead>\n",
       "    <tr style=\"text-align: right;\">\n",
       "      <th></th>\n",
       "      <th>sup_total</th>\n",
       "      <th>sup_viv_sbr</th>\n",
       "      <th>demanda_cal_cte</th>\n",
       "      <th>index_right</th>\n",
       "      <th>demand_cal_by_surf_wa</th>\n",
       "    </tr>\n",
       "    <tr>\n",
       "      <th>id</th>\n",
       "      <th></th>\n",
       "      <th></th>\n",
       "      <th></th>\n",
       "      <th></th>\n",
       "      <th></th>\n",
       "    </tr>\n",
       "  </thead>\n",
       "  <tbody>\n",
       "    <tr>\n",
       "      <th>0700201001</th>\n",
       "      <td>342.052392</td>\n",
       "      <td>200.615801</td>\n",
       "      <td>6725.752612</td>\n",
       "      <td>0.0</td>\n",
       "      <td>52.053273</td>\n",
       "    </tr>\n",
       "    <tr>\n",
       "      <th>0700201002</th>\n",
       "      <td>395.434088</td>\n",
       "      <td>250.150466</td>\n",
       "      <td>6841.308785</td>\n",
       "      <td>37.0</td>\n",
       "      <td>49.964210</td>\n",
       "    </tr>\n",
       "    <tr>\n",
       "      <th>0700202001</th>\n",
       "      <td>384.817143</td>\n",
       "      <td>228.154286</td>\n",
       "      <td>6839.871114</td>\n",
       "      <td>1.0</td>\n",
       "      <td>42.953922</td>\n",
       "    </tr>\n",
       "    <tr>\n",
       "      <th>0700202002</th>\n",
       "      <td>308.317343</td>\n",
       "      <td>176.551661</td>\n",
       "      <td>7181.702395</td>\n",
       "      <td>13.0</td>\n",
       "      <td>59.802629</td>\n",
       "    </tr>\n",
       "    <tr>\n",
       "      <th>0700202003</th>\n",
       "      <td>226.795146</td>\n",
       "      <td>139.032039</td>\n",
       "      <td>6820.292332</td>\n",
       "      <td>2.0</td>\n",
       "      <td>79.414523</td>\n",
       "    </tr>\n",
       "  </tbody>\n",
       "</table>\n",
       "</div>"
      ],
      "text/plain": [
       "             sup_total  sup_viv_sbr  demanda_cal_cte  index_right  \\\n",
       "id                                                                  \n",
       "0700201001  342.052392   200.615801      6725.752612          0.0   \n",
       "0700201002  395.434088   250.150466      6841.308785         37.0   \n",
       "0700202001  384.817143   228.154286      6839.871114          1.0   \n",
       "0700202002  308.317343   176.551661      7181.702395         13.0   \n",
       "0700202003  226.795146   139.032039      6820.292332          2.0   \n",
       "\n",
       "            demand_cal_by_surf_wa  \n",
       "id                                 \n",
       "0700201001              52.053273  \n",
       "0700201002              49.964210  \n",
       "0700202001              42.953922  \n",
       "0700202002              59.802629  \n",
       "0700202003              79.414523  "
      ]
     },
     "execution_count": 53,
     "metadata": {},
     "output_type": "execute_result"
    }
   ],
   "source": [
    "join_cadastral_wa.head()"
   ]
  },
  {
   "cell_type": "code",
   "execution_count": 54,
   "id": "295255e4",
   "metadata": {},
   "outputs": [],
   "source": [
    "join_cadastral_wa[\"average_no_weighted\"] =  join_cadastral_by_id[\"demand_cal_by_surf\"] # add average no weighted from previous df"
   ]
  },
  {
   "cell_type": "code",
   "execution_count": 55,
   "id": "3bd51c11",
   "metadata": {},
   "outputs": [
    {
     "data": {
      "text/html": [
       "<div>\n",
       "<style scoped>\n",
       "    .dataframe tbody tr th:only-of-type {\n",
       "        vertical-align: middle;\n",
       "    }\n",
       "\n",
       "    .dataframe tbody tr th {\n",
       "        vertical-align: top;\n",
       "    }\n",
       "\n",
       "    .dataframe thead th {\n",
       "        text-align: right;\n",
       "    }\n",
       "</style>\n",
       "<table border=\"1\" class=\"dataframe\">\n",
       "  <thead>\n",
       "    <tr style=\"text-align: right;\">\n",
       "      <th></th>\n",
       "      <th>sup_total</th>\n",
       "      <th>sup_viv_sbr</th>\n",
       "      <th>demanda_cal_cte</th>\n",
       "      <th>index_right</th>\n",
       "      <th>demand_cal_by_surf_wa</th>\n",
       "      <th>average_no_weighted</th>\n",
       "    </tr>\n",
       "    <tr>\n",
       "      <th>id</th>\n",
       "      <th></th>\n",
       "      <th></th>\n",
       "      <th></th>\n",
       "      <th></th>\n",
       "      <th></th>\n",
       "      <th></th>\n",
       "    </tr>\n",
       "  </thead>\n",
       "  <tbody>\n",
       "    <tr>\n",
       "      <th>0700201001</th>\n",
       "      <td>342.052392</td>\n",
       "      <td>200.615801</td>\n",
       "      <td>6725.752612</td>\n",
       "      <td>0.0</td>\n",
       "      <td>52.053273</td>\n",
       "      <td>33.525538</td>\n",
       "    </tr>\n",
       "    <tr>\n",
       "      <th>0700201002</th>\n",
       "      <td>395.434088</td>\n",
       "      <td>250.150466</td>\n",
       "      <td>6841.308785</td>\n",
       "      <td>37.0</td>\n",
       "      <td>49.964210</td>\n",
       "      <td>27.348775</td>\n",
       "    </tr>\n",
       "    <tr>\n",
       "      <th>0700202001</th>\n",
       "      <td>384.817143</td>\n",
       "      <td>228.154286</td>\n",
       "      <td>6839.871114</td>\n",
       "      <td>1.0</td>\n",
       "      <td>42.953922</td>\n",
       "      <td>29.979148</td>\n",
       "    </tr>\n",
       "    <tr>\n",
       "      <th>0700202002</th>\n",
       "      <td>308.317343</td>\n",
       "      <td>176.551661</td>\n",
       "      <td>7181.702395</td>\n",
       "      <td>13.0</td>\n",
       "      <td>59.802629</td>\n",
       "      <td>40.677626</td>\n",
       "    </tr>\n",
       "    <tr>\n",
       "      <th>0700202003</th>\n",
       "      <td>226.795146</td>\n",
       "      <td>139.032039</td>\n",
       "      <td>6820.292332</td>\n",
       "      <td>2.0</td>\n",
       "      <td>79.414523</td>\n",
       "      <td>49.055544</td>\n",
       "    </tr>\n",
       "  </tbody>\n",
       "</table>\n",
       "</div>"
      ],
      "text/plain": [
       "             sup_total  sup_viv_sbr  demanda_cal_cte  index_right  \\\n",
       "id                                                                  \n",
       "0700201001  342.052392   200.615801      6725.752612          0.0   \n",
       "0700201002  395.434088   250.150466      6841.308785         37.0   \n",
       "0700202001  384.817143   228.154286      6839.871114          1.0   \n",
       "0700202002  308.317343   176.551661      7181.702395         13.0   \n",
       "0700202003  226.795146   139.032039      6820.292332          2.0   \n",
       "\n",
       "            demand_cal_by_surf_wa  average_no_weighted  \n",
       "id                                                      \n",
       "0700201001              52.053273            33.525538  \n",
       "0700201002              49.964210            27.348775  \n",
       "0700202001              42.953922            29.979148  \n",
       "0700202002              59.802629            40.677626  \n",
       "0700202003              79.414523            49.055544  "
      ]
     },
     "execution_count": 55,
     "metadata": {},
     "output_type": "execute_result"
    }
   ],
   "source": [
    "join_cadastral_wa.head()"
   ]
  },
  {
   "cell_type": "markdown",
   "id": "4ae23f38",
   "metadata": {},
   "source": [
    "Now we have the **weighted average** and the **average not weighted** grouped by census id (id)."
   ]
  },
  {
   "cell_type": "markdown",
   "id": "3339b6eb",
   "metadata": {},
   "source": [
    "### Final result"
   ]
  },
  {
   "cell_type": "code",
   "execution_count": 56,
   "id": "78eff01f",
   "metadata": {},
   "outputs": [],
   "source": [
    "# 3 decimals positions\n",
    "pd.options.display.float_format = '{:.2f}'.format"
   ]
  },
  {
   "cell_type": "code",
   "execution_count": 57,
   "id": "19134d70",
   "metadata": {
    "scrolled": true
   },
   "outputs": [
    {
     "data": {
      "text/plain": [
       "id\n",
       "0700201001   52.05\n",
       "0700201002   49.96\n",
       "0700202001   42.95\n",
       "0700202002   59.80\n",
       "0700202003   79.41\n",
       "0701501001   57.34\n",
       "0701501002   41.05\n",
       "0701501003   33.55\n",
       "0701501004   56.02\n",
       "0701501005   58.38\n",
       "0701502001   54.85\n",
       "0701502002   43.09\n",
       "0701502003   39.13\n",
       "0701502004   36.89\n",
       "0701503001   51.64\n",
       "0701503002   42.73\n",
       "0701503003   34.99\n",
       "0701504001   45.43\n",
       "0701504003   52.53\n",
       "0701504004   62.23\n",
       "0702301001   44.88\n",
       "0702301002   26.70\n",
       "0702301003   35.58\n",
       "0703201001   67.20\n",
       "0703201002   50.32\n",
       "0703202001   43.63\n",
       "0703202002   41.91\n",
       "0703202003   44.74\n",
       "0703202004   33.39\n",
       "0703203001   42.73\n",
       "0703203002   42.59\n",
       "0703203003   68.66\n",
       "0703203004    9.27\n",
       "0703203005   16.48\n",
       "0703203006   45.35\n",
       "0703204001   48.47\n",
       "0703204002   37.78\n",
       "0703205001   68.00\n",
       "0703701001   46.75\n",
       "0703701002   50.26\n",
       "0703701003   48.59\n",
       "0705201001   45.23\n",
       "0705201002   44.06\n",
       "0705202001   88.38\n",
       "0705202002   69.91\n",
       "0706401001   45.90\n",
       "0706401002   64.63\n",
       "0706401003   59.25\n",
       "0706401004   55.90\n",
       "0706401005   38.14\n",
       "0790201001   46.22\n",
       "Name: demand_cal_by_surf_wa, dtype: float64"
      ]
     },
     "execution_count": 57,
     "metadata": {},
     "output_type": "execute_result"
    }
   ],
   "source": [
    "average_non_weighted = join_cadastral_wa.iloc[:, -2] # selecting rows from the df\n",
    "average_non_weighted"
   ]
  },
  {
   "cell_type": "code",
   "execution_count": 58,
   "id": "6ad8d0d1",
   "metadata": {},
   "outputs": [],
   "source": [
    "average_non_weighted.to_excel(\"./taules_exerc_gis/weighted_avg_of_energdeamnd_bysurface_ex_2.xlsx\", sheet_name='Fulla1') "
   ]
  },
  {
   "cell_type": "markdown",
   "id": "d535332c",
   "metadata": {},
   "source": [
    "## 3. Total surface by census area and property use category."
   ]
  },
  {
   "cell_type": "markdown",
   "id": "39b7ee9a",
   "metadata": {},
   "source": [
    "[Source](https://geopandas.org/en/stable/docs/reference/api/geopandas.GeoSeries.area.html)\n",
    "\n",
    "Now we are working with ETRS so we can calculate in meters."
   ]
  },
  {
   "cell_type": "code",
   "execution_count": 59,
   "id": "6a1a0749",
   "metadata": {},
   "outputs": [
    {
     "data": {
      "text/html": [
       "<div>\n",
       "<style scoped>\n",
       "    .dataframe tbody tr th:only-of-type {\n",
       "        vertical-align: middle;\n",
       "    }\n",
       "\n",
       "    .dataframe tbody tr th {\n",
       "        vertical-align: top;\n",
       "    }\n",
       "\n",
       "    .dataframe thead th {\n",
       "        text-align: right;\n",
       "    }\n",
       "</style>\n",
       "<table border=\"1\" class=\"dataframe\">\n",
       "  <thead>\n",
       "    <tr style=\"text-align: right;\">\n",
       "      <th></th>\n",
       "      <th>parcela_catastral</th>\n",
       "      <th>immb_us_prn</th>\n",
       "      <th>sup_total</th>\n",
       "      <th>sup_viv_sbr</th>\n",
       "      <th>demanda_cal_cte</th>\n",
       "      <th>geometry</th>\n",
       "      <th>index_right</th>\n",
       "      <th>id</th>\n",
       "    </tr>\n",
       "  </thead>\n",
       "  <tbody>\n",
       "    <tr>\n",
       "      <th>0</th>\n",
       "      <td>63939911378595</td>\n",
       "      <td>Residencial</td>\n",
       "      <td>505.00</td>\n",
       "      <td>505.00</td>\n",
       "      <td>NaN</td>\n",
       "      <td>MULTIPOLYGON (((595568.124 4417209.480, 595563...</td>\n",
       "      <td>1.00</td>\n",
       "      <td>0700202001</td>\n",
       "    </tr>\n",
       "    <tr>\n",
       "      <th>1</th>\n",
       "      <td>93428957957876</td>\n",
       "      <td>AltresNoCal</td>\n",
       "      <td>265.00</td>\n",
       "      <td>0.00</td>\n",
       "      <td>NaN</td>\n",
       "      <td>MULTIPOLYGON (((595167.927 4419452.085, 595147...</td>\n",
       "      <td>37.00</td>\n",
       "      <td>0700201002</td>\n",
       "    </tr>\n",
       "    <tr>\n",
       "      <th>2</th>\n",
       "      <td>91748101647838</td>\n",
       "      <td>Emmagatzematge</td>\n",
       "      <td>9.00</td>\n",
       "      <td>0.00</td>\n",
       "      <td>NaN</td>\n",
       "      <td>MULTIPOLYGON (((595171.157 4419445.925, 595171...</td>\n",
       "      <td>37.00</td>\n",
       "      <td>0700201002</td>\n",
       "    </tr>\n",
       "    <tr>\n",
       "      <th>3</th>\n",
       "      <td>38225472390951</td>\n",
       "      <td>Emmagatzematge</td>\n",
       "      <td>22.00</td>\n",
       "      <td>0.00</td>\n",
       "      <td>NaN</td>\n",
       "      <td>MULTIPOLYGON (((595578.285 4416970.042, 595583...</td>\n",
       "      <td>1.00</td>\n",
       "      <td>0700202001</td>\n",
       "    </tr>\n",
       "    <tr>\n",
       "      <th>4</th>\n",
       "      <td>66150954127328</td>\n",
       "      <td>Emmagatzematge</td>\n",
       "      <td>9.00</td>\n",
       "      <td>0.00</td>\n",
       "      <td>NaN</td>\n",
       "      <td>MULTIPOLYGON (((594968.813 4422211.527, 594966...</td>\n",
       "      <td>37.00</td>\n",
       "      <td>0700201002</td>\n",
       "    </tr>\n",
       "  </tbody>\n",
       "</table>\n",
       "</div>"
      ],
      "text/plain": [
       "  parcela_catastral     immb_us_prn  sup_total  sup_viv_sbr  demanda_cal_cte  \\\n",
       "0    63939911378595     Residencial     505.00       505.00              NaN   \n",
       "1    93428957957876     AltresNoCal     265.00         0.00              NaN   \n",
       "2    91748101647838  Emmagatzematge       9.00         0.00              NaN   \n",
       "3    38225472390951  Emmagatzematge      22.00         0.00              NaN   \n",
       "4    66150954127328  Emmagatzematge       9.00         0.00              NaN   \n",
       "\n",
       "                                            geometry  index_right          id  \n",
       "0  MULTIPOLYGON (((595568.124 4417209.480, 595563...         1.00  0700202001  \n",
       "1  MULTIPOLYGON (((595167.927 4419452.085, 595147...        37.00  0700201002  \n",
       "2  MULTIPOLYGON (((595171.157 4419445.925, 595171...        37.00  0700201002  \n",
       "3  MULTIPOLYGON (((595578.285 4416970.042, 595583...         1.00  0700202001  \n",
       "4  MULTIPOLYGON (((594968.813 4422211.527, 594966...        37.00  0700201002  "
      ]
     },
     "execution_count": 59,
     "metadata": {},
     "output_type": "execute_result"
    }
   ],
   "source": [
    "join_cadastral_gdf.head()"
   ]
  },
  {
   "cell_type": "code",
   "execution_count": 60,
   "id": "5307a3d8",
   "metadata": {},
   "outputs": [
    {
     "name": "stdout",
     "output_type": "stream",
     "text": [
      "<class 'geopandas.geodataframe.GeoDataFrame'>\n",
      "Int64Index: 35991 entries, 0 to 35990\n",
      "Data columns (total 8 columns):\n",
      " #   Column             Non-Null Count  Dtype   \n",
      "---  ------             --------------  -----   \n",
      " 0   parcela_catastral  35991 non-null  object  \n",
      " 1   immb_us_prn        35991 non-null  object  \n",
      " 2   sup_total          35991 non-null  float64 \n",
      " 3   sup_viv_sbr        35991 non-null  float64 \n",
      " 4   demanda_cal_cte    23600 non-null  float64 \n",
      " 5   geometry           35991 non-null  geometry\n",
      " 6   index_right        35139 non-null  float64 \n",
      " 7   id                 35139 non-null  object  \n",
      "dtypes: float64(4), geometry(1), object(3)\n",
      "memory usage: 2.5+ MB\n"
     ]
    }
   ],
   "source": [
    "join_cadastral_gdf.info()"
   ]
  },
  {
   "cell_type": "code",
   "execution_count": 61,
   "id": "f0892e5c",
   "metadata": {},
   "outputs": [
    {
     "data": {
      "text/plain": [
       "35991"
      ]
     },
     "execution_count": 61,
     "metadata": {},
     "output_type": "execute_result"
    }
   ],
   "source": [
    "join_cadastral_gdf.shape[0]"
   ]
  },
  {
   "cell_type": "markdown",
   "id": "c7605ada",
   "metadata": {},
   "source": [
    "For this exercice we will delete the na id and geometry"
   ]
  },
  {
   "cell_type": "code",
   "execution_count": 62,
   "id": "82401588",
   "metadata": {},
   "outputs": [],
   "source": [
    "join_cadastral_gdf_not_na_id = join_cadastral_gdf[join_cadastral_gdf['id'].notna()] # droping not na values by column"
   ]
  },
  {
   "cell_type": "code",
   "execution_count": 63,
   "id": "21fe0548",
   "metadata": {},
   "outputs": [],
   "source": [
    "join_cadastral_gdf_not_na_id_geom =  join_cadastral_gdf_not_na_id[join_cadastral_gdf_not_na_id['geometry'].notna()]"
   ]
  },
  {
   "cell_type": "code",
   "execution_count": 64,
   "id": "ad714a47",
   "metadata": {},
   "outputs": [
    {
     "name": "stdout",
     "output_type": "stream",
     "text": [
      "<class 'geopandas.geodataframe.GeoDataFrame'>\n",
      "Int64Index: 35139 entries, 0 to 35990\n",
      "Data columns (total 8 columns):\n",
      " #   Column             Non-Null Count  Dtype   \n",
      "---  ------             --------------  -----   \n",
      " 0   parcela_catastral  35139 non-null  object  \n",
      " 1   immb_us_prn        35139 non-null  object  \n",
      " 2   sup_total          35139 non-null  float64 \n",
      " 3   sup_viv_sbr        35139 non-null  float64 \n",
      " 4   demanda_cal_cte    23318 non-null  float64 \n",
      " 5   geometry           35139 non-null  geometry\n",
      " 6   index_right        35139 non-null  float64 \n",
      " 7   id                 35139 non-null  object  \n",
      "dtypes: float64(4), geometry(1), object(3)\n",
      "memory usage: 2.4+ MB\n"
     ]
    }
   ],
   "source": [
    "join_cadastral_gdf_not_na_id_geom.info()"
   ]
  },
  {
   "cell_type": "code",
   "execution_count": 65,
   "id": "90b20242",
   "metadata": {},
   "outputs": [
    {
     "data": {
      "text/plain": [
       "35139"
      ]
     },
     "execution_count": 65,
     "metadata": {},
     "output_type": "execute_result"
    }
   ],
   "source": [
    "join_cadastral_gdf_not_na_id_geom.shape[0]"
   ]
  },
  {
   "cell_type": "code",
   "execution_count": 66,
   "id": "3cf6c20b",
   "metadata": {},
   "outputs": [
    {
     "data": {
      "text/html": [
       "<div>\n",
       "<style scoped>\n",
       "    .dataframe tbody tr th:only-of-type {\n",
       "        vertical-align: middle;\n",
       "    }\n",
       "\n",
       "    .dataframe tbody tr th {\n",
       "        vertical-align: top;\n",
       "    }\n",
       "\n",
       "    .dataframe thead th {\n",
       "        text-align: right;\n",
       "    }\n",
       "</style>\n",
       "<table border=\"1\" class=\"dataframe\">\n",
       "  <thead>\n",
       "    <tr style=\"text-align: right;\">\n",
       "      <th></th>\n",
       "      <th>parcela_catastral</th>\n",
       "      <th>immb_us_prn</th>\n",
       "      <th>sup_total</th>\n",
       "      <th>sup_viv_sbr</th>\n",
       "      <th>demanda_cal_cte</th>\n",
       "      <th>geometry</th>\n",
       "      <th>index_right</th>\n",
       "      <th>id</th>\n",
       "    </tr>\n",
       "  </thead>\n",
       "  <tbody>\n",
       "    <tr>\n",
       "      <th>0</th>\n",
       "      <td>63939911378595</td>\n",
       "      <td>Residencial</td>\n",
       "      <td>505.00</td>\n",
       "      <td>505.00</td>\n",
       "      <td>NaN</td>\n",
       "      <td>MULTIPOLYGON (((595568.124 4417209.480, 595563...</td>\n",
       "      <td>1.00</td>\n",
       "      <td>0700202001</td>\n",
       "    </tr>\n",
       "    <tr>\n",
       "      <th>1</th>\n",
       "      <td>93428957957876</td>\n",
       "      <td>AltresNoCal</td>\n",
       "      <td>265.00</td>\n",
       "      <td>0.00</td>\n",
       "      <td>NaN</td>\n",
       "      <td>MULTIPOLYGON (((595167.927 4419452.085, 595147...</td>\n",
       "      <td>37.00</td>\n",
       "      <td>0700201002</td>\n",
       "    </tr>\n",
       "    <tr>\n",
       "      <th>2</th>\n",
       "      <td>91748101647838</td>\n",
       "      <td>Emmagatzematge</td>\n",
       "      <td>9.00</td>\n",
       "      <td>0.00</td>\n",
       "      <td>NaN</td>\n",
       "      <td>MULTIPOLYGON (((595171.157 4419445.925, 595171...</td>\n",
       "      <td>37.00</td>\n",
       "      <td>0700201002</td>\n",
       "    </tr>\n",
       "    <tr>\n",
       "      <th>3</th>\n",
       "      <td>38225472390951</td>\n",
       "      <td>Emmagatzematge</td>\n",
       "      <td>22.00</td>\n",
       "      <td>0.00</td>\n",
       "      <td>NaN</td>\n",
       "      <td>MULTIPOLYGON (((595578.285 4416970.042, 595583...</td>\n",
       "      <td>1.00</td>\n",
       "      <td>0700202001</td>\n",
       "    </tr>\n",
       "    <tr>\n",
       "      <th>4</th>\n",
       "      <td>66150954127328</td>\n",
       "      <td>Emmagatzematge</td>\n",
       "      <td>9.00</td>\n",
       "      <td>0.00</td>\n",
       "      <td>NaN</td>\n",
       "      <td>MULTIPOLYGON (((594968.813 4422211.527, 594966...</td>\n",
       "      <td>37.00</td>\n",
       "      <td>0700201002</td>\n",
       "    </tr>\n",
       "  </tbody>\n",
       "</table>\n",
       "</div>"
      ],
      "text/plain": [
       "  parcela_catastral     immb_us_prn  sup_total  sup_viv_sbr  demanda_cal_cte  \\\n",
       "0    63939911378595     Residencial     505.00       505.00              NaN   \n",
       "1    93428957957876     AltresNoCal     265.00         0.00              NaN   \n",
       "2    91748101647838  Emmagatzematge       9.00         0.00              NaN   \n",
       "3    38225472390951  Emmagatzematge      22.00         0.00              NaN   \n",
       "4    66150954127328  Emmagatzematge       9.00         0.00              NaN   \n",
       "\n",
       "                                            geometry  index_right          id  \n",
       "0  MULTIPOLYGON (((595568.124 4417209.480, 595563...         1.00  0700202001  \n",
       "1  MULTIPOLYGON (((595167.927 4419452.085, 595147...        37.00  0700201002  \n",
       "2  MULTIPOLYGON (((595171.157 4419445.925, 595171...        37.00  0700201002  \n",
       "3  MULTIPOLYGON (((595578.285 4416970.042, 595583...         1.00  0700202001  \n",
       "4  MULTIPOLYGON (((594968.813 4422211.527, 594966...        37.00  0700201002  "
      ]
     },
     "execution_count": 66,
     "metadata": {},
     "output_type": "execute_result"
    }
   ],
   "source": [
    "join_cadastral_gdf_not_na_id_geom.head()"
   ]
  },
  {
   "cell_type": "markdown",
   "id": "eef46065",
   "metadata": {},
   "source": [
    "First we will calculate the surface of every parcela_catastral and next we will group by the requirements and the surfaces."
   ]
  },
  {
   "cell_type": "code",
   "execution_count": 67,
   "id": "cc54bb87",
   "metadata": {},
   "outputs": [
    {
     "data": {
      "text/plain": [
       "<Projected CRS: EPSG:25831>\n",
       "Name: ETRS89 / UTM zone 31N\n",
       "Axis Info [cartesian]:\n",
       "- E[east]: Easting (metre)\n",
       "- N[north]: Northing (metre)\n",
       "Area of Use:\n",
       "- name: Europe between 0°E and 6°E: Andorra; Belgium - onshore and offshore; Denmark - offshore; Germany - offshore; Jan Mayen - offshore; Norway including Svalbard - onshore and offshore; Spain - onshore and offshore.\n",
       "- bounds: (0.0, 37.0, 6.01, 82.41)\n",
       "Coordinate Operation:\n",
       "- name: UTM zone 31N\n",
       "- method: Transverse Mercator\n",
       "Datum: European Terrestrial Reference System 1989\n",
       "- Ellipsoid: GRS 1980\n",
       "- Prime Meridian: Greenwich"
      ]
     },
     "execution_count": 67,
     "metadata": {},
     "output_type": "execute_result"
    }
   ],
   "source": [
    "join_cadastral_gdf_not_na_id_geom.crs #   Projected coordinate Systems, we can calculate areas"
   ]
  },
  {
   "cell_type": "code",
   "execution_count": 68,
   "id": "fbe83a1a",
   "metadata": {},
   "outputs": [],
   "source": [
    "join_cadastral_gdf_not_na_id_geom[\"area\"] = join_cadastral_gdf_not_na_id_geom.area # calculating the area"
   ]
  },
  {
   "cell_type": "code",
   "execution_count": 69,
   "id": "5996ccce",
   "metadata": {},
   "outputs": [
    {
     "data": {
      "text/html": [
       "<div>\n",
       "<style scoped>\n",
       "    .dataframe tbody tr th:only-of-type {\n",
       "        vertical-align: middle;\n",
       "    }\n",
       "\n",
       "    .dataframe tbody tr th {\n",
       "        vertical-align: top;\n",
       "    }\n",
       "\n",
       "    .dataframe thead th {\n",
       "        text-align: right;\n",
       "    }\n",
       "</style>\n",
       "<table border=\"1\" class=\"dataframe\">\n",
       "  <thead>\n",
       "    <tr style=\"text-align: right;\">\n",
       "      <th></th>\n",
       "      <th>parcela_catastral</th>\n",
       "      <th>immb_us_prn</th>\n",
       "      <th>sup_total</th>\n",
       "      <th>sup_viv_sbr</th>\n",
       "      <th>demanda_cal_cte</th>\n",
       "      <th>geometry</th>\n",
       "      <th>index_right</th>\n",
       "      <th>id</th>\n",
       "      <th>area</th>\n",
       "    </tr>\n",
       "  </thead>\n",
       "  <tbody>\n",
       "    <tr>\n",
       "      <th>0</th>\n",
       "      <td>63939911378595</td>\n",
       "      <td>Residencial</td>\n",
       "      <td>505.00</td>\n",
       "      <td>505.00</td>\n",
       "      <td>NaN</td>\n",
       "      <td>MULTIPOLYGON (((595568.124 4417209.480, 595563...</td>\n",
       "      <td>1.00</td>\n",
       "      <td>0700202001</td>\n",
       "      <td>315.09</td>\n",
       "    </tr>\n",
       "    <tr>\n",
       "      <th>1</th>\n",
       "      <td>93428957957876</td>\n",
       "      <td>AltresNoCal</td>\n",
       "      <td>265.00</td>\n",
       "      <td>0.00</td>\n",
       "      <td>NaN</td>\n",
       "      <td>MULTIPOLYGON (((595167.927 4419452.085, 595147...</td>\n",
       "      <td>37.00</td>\n",
       "      <td>0700201002</td>\n",
       "      <td>269.06</td>\n",
       "    </tr>\n",
       "    <tr>\n",
       "      <th>2</th>\n",
       "      <td>91748101647838</td>\n",
       "      <td>Emmagatzematge</td>\n",
       "      <td>9.00</td>\n",
       "      <td>0.00</td>\n",
       "      <td>NaN</td>\n",
       "      <td>MULTIPOLYGON (((595171.157 4419445.925, 595171...</td>\n",
       "      <td>37.00</td>\n",
       "      <td>0700201002</td>\n",
       "      <td>9.04</td>\n",
       "    </tr>\n",
       "    <tr>\n",
       "      <th>3</th>\n",
       "      <td>38225472390951</td>\n",
       "      <td>Emmagatzematge</td>\n",
       "      <td>22.00</td>\n",
       "      <td>0.00</td>\n",
       "      <td>NaN</td>\n",
       "      <td>MULTIPOLYGON (((595578.285 4416970.042, 595583...</td>\n",
       "      <td>1.00</td>\n",
       "      <td>0700202001</td>\n",
       "      <td>22.69</td>\n",
       "    </tr>\n",
       "    <tr>\n",
       "      <th>4</th>\n",
       "      <td>66150954127328</td>\n",
       "      <td>Emmagatzematge</td>\n",
       "      <td>9.00</td>\n",
       "      <td>0.00</td>\n",
       "      <td>NaN</td>\n",
       "      <td>MULTIPOLYGON (((594968.813 4422211.527, 594966...</td>\n",
       "      <td>37.00</td>\n",
       "      <td>0700201002</td>\n",
       "      <td>8.86</td>\n",
       "    </tr>\n",
       "  </tbody>\n",
       "</table>\n",
       "</div>"
      ],
      "text/plain": [
       "  parcela_catastral     immb_us_prn  sup_total  sup_viv_sbr  demanda_cal_cte  \\\n",
       "0    63939911378595     Residencial     505.00       505.00              NaN   \n",
       "1    93428957957876     AltresNoCal     265.00         0.00              NaN   \n",
       "2    91748101647838  Emmagatzematge       9.00         0.00              NaN   \n",
       "3    38225472390951  Emmagatzematge      22.00         0.00              NaN   \n",
       "4    66150954127328  Emmagatzematge       9.00         0.00              NaN   \n",
       "\n",
       "                                            geometry  index_right          id  \\\n",
       "0  MULTIPOLYGON (((595568.124 4417209.480, 595563...         1.00  0700202001   \n",
       "1  MULTIPOLYGON (((595167.927 4419452.085, 595147...        37.00  0700201002   \n",
       "2  MULTIPOLYGON (((595171.157 4419445.925, 595171...        37.00  0700201002   \n",
       "3  MULTIPOLYGON (((595578.285 4416970.042, 595583...         1.00  0700202001   \n",
       "4  MULTIPOLYGON (((594968.813 4422211.527, 594966...        37.00  0700201002   \n",
       "\n",
       "    area  \n",
       "0 315.09  \n",
       "1 269.06  \n",
       "2   9.04  \n",
       "3  22.69  \n",
       "4   8.86  "
      ]
     },
     "execution_count": 69,
     "metadata": {},
     "output_type": "execute_result"
    }
   ],
   "source": [
    "join_cadastral_gdf_not_na_id_geom.head()"
   ]
  },
  {
   "cell_type": "code",
   "execution_count": 70,
   "id": "717d5379",
   "metadata": {},
   "outputs": [
    {
     "data": {
      "text/plain": [
       "<Projected CRS: EPSG:25831>\n",
       "Name: ETRS89 / UTM zone 31N\n",
       "Axis Info [cartesian]:\n",
       "- E[east]: Easting (metre)\n",
       "- N[north]: Northing (metre)\n",
       "Area of Use:\n",
       "- name: Europe between 0°E and 6°E: Andorra; Belgium - onshore and offshore; Denmark - offshore; Germany - offshore; Jan Mayen - offshore; Norway including Svalbard - onshore and offshore; Spain - onshore and offshore.\n",
       "- bounds: (0.0, 37.0, 6.01, 82.41)\n",
       "Coordinate Operation:\n",
       "- name: UTM zone 31N\n",
       "- method: Transverse Mercator\n",
       "Datum: European Terrestrial Reference System 1989\n",
       "- Ellipsoid: GRS 1980\n",
       "- Prime Meridian: Greenwich"
      ]
     },
     "execution_count": 70,
     "metadata": {},
     "output_type": "execute_result"
    }
   ],
   "source": [
    "join_cadastral_gdf_not_na_id_geom.crs"
   ]
  },
  {
   "cell_type": "markdown",
   "id": "2bb7e730",
   "metadata": {},
   "source": [
    "The distances are in **square meters** because we are working with a gdf with Projected coordinate System."
   ]
  },
  {
   "cell_type": "code",
   "execution_count": 71,
   "id": "92638767",
   "metadata": {},
   "outputs": [],
   "source": [
    "total_surface_by_2_cond = join_cadastral_gdf_not_na_id_geom.groupby(['id', 'immb_us_prn'])[\"area\"].sum() #gfroupib by two condicions and sum area"
   ]
  },
  {
   "cell_type": "markdown",
   "id": "9fbf7823",
   "metadata": {},
   "source": [
    "### Results exercice 3"
   ]
  },
  {
   "cell_type": "code",
   "execution_count": 72,
   "id": "b2f9b3fa",
   "metadata": {},
   "outputs": [
    {
     "data": {
      "text/plain": [
       "id          immb_us_prn        \n",
       "0700201001  AltresCal                 2174.37\n",
       "            AltresNoCal            2226483.66\n",
       "            Aparcament               60589.42\n",
       "            Comercial                 1080.91\n",
       "            Emmagatzematge          377304.37\n",
       "            HotelerRestauracio       18983.22\n",
       "            Industrial                3984.81\n",
       "            IndustrialResta          10184.10\n",
       "            Oficines                   160.60\n",
       "            Piscines                   612.20\n",
       "            Public                   22955.56\n",
       "            Residencial            1494245.14\n",
       "0700201002  AltresCal                  165.98\n",
       "            AltresNoCal           12505368.92\n",
       "            Aparcament               14292.61\n",
       "            Comercial                28876.93\n",
       "            Comu                       712.40\n",
       "            Emmagatzematge          291945.72\n",
       "            EnsenyamentCultural         63.44\n",
       "            Esportiu                208215.70\n",
       "            HotelerRestauracio      170790.07\n",
       "            IndustrialResta          74829.71\n",
       "            Piscines                  2112.94\n",
       "            Residencial            2094508.10\n",
       "0700202001  AltresCal                  707.96\n",
       "            AltresNoCal           10109392.00\n",
       "            Aparcament               74490.55\n",
       "            Comercial                 3546.55\n",
       "            Emmagatzematge         1581911.21\n",
       "            Esportiu                654478.98\n",
       "            HotelerRestauracio      396877.93\n",
       "            IndustrialResta          64293.05\n",
       "            Oficines                    17.82\n",
       "            Piscines                 12610.33\n",
       "            Public                      95.36\n",
       "            Residencial             746431.36\n",
       "            VincViv                     56.98\n",
       "0700202002  AltresCal                  670.24\n",
       "            AltresNoCal           10918405.63\n",
       "            Aparcament               30360.87\n",
       "            Comercial                 2040.86\n",
       "            Emmagatzematge         1179243.29\n",
       "            EnsenyamentCultural      21690.00\n",
       "            Esportiu                 16077.10\n",
       "            HotelerRestauracio         879.73\n",
       "            Industrial                4442.66\n",
       "            IndustrialResta          54993.14\n",
       "            NoCodificat                544.45\n",
       "            Oficines                    63.81\n",
       "            Piscines                 19985.78\n",
       "Name: area, dtype: float64"
      ]
     },
     "execution_count": 72,
     "metadata": {},
     "output_type": "execute_result"
    }
   ],
   "source": [
    "total_surface_by_2_cond.head(50)"
   ]
  },
  {
   "cell_type": "code",
   "execution_count": 73,
   "id": "bcb4c7de",
   "metadata": {},
   "outputs": [],
   "source": [
    "total_surface_by_2_cond.to_excel(\"./taules_exerc_gis/surfaces_square_meters_by_id_census_and_use_category.xlsx\", sheet_name='Fulla1') "
   ]
  },
  {
   "cell_type": "markdown",
   "id": "ffe6a1a6",
   "metadata": {},
   "source": [
    "The main part of the buldings are classified as AltresNoCal."
   ]
  },
  {
   "cell_type": "code",
   "execution_count": null,
   "id": "5632d1b5",
   "metadata": {},
   "outputs": [],
   "source": [
    " "
   ]
  }
 ],
 "metadata": {
  "kernelspec": {
   "display_name": "Python 3 (ipykernel)",
   "language": "python",
   "name": "python3"
  },
  "language_info": {
   "codemirror_mode": {
    "name": "ipython",
    "version": 3
   },
   "file_extension": ".py",
   "mimetype": "text/x-python",
   "name": "python",
   "nbconvert_exporter": "python",
   "pygments_lexer": "ipython3",
   "version": "3.8.10"
  }
 },
 "nbformat": 4,
 "nbformat_minor": 5
}
